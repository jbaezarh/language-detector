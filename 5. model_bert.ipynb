{
 "cells": [
  {
   "cell_type": "markdown",
   "id": "2757a917",
   "metadata": {},
   "source": [
    "# Modelo basado en transformers\n",
    "En los modelos considerados anteriormente hemos llegado a alcanzar resultados excelentes. FastText clasifica perfectamente todas las frases con más de 12 palabras y llegamos a obtener tasas de acierto de 99.87% en frases de entre 7 y 12 palabras y del 98.37% en frases de menos de 7 palabras, manteniendo una latencia muy baja. Sin embargo, hemos visto que el modelo comete fallos que un humano no cometería derivados del hecho de que solo se fija en los n-gramas que tiene en su vocabulario, sin considerar palabras completas, y de que carece de mecanismos de atención. En este último enfoque, exploraremos si podemos solucionar estas limitaciones empleando un modelo BERT preentrenado en diversas lenguas. \n",
    "\n",
    "Emplearemos le modelo `distilbert-base-multilingual-cased` por varias razones:\n",
    "- Está preentrenado sobre 104 lenguas, que incluyen todas las de nuestro dataset.\n",
    "- Es más ligero que el modelo BERT original.\n",
    "- Es *case-sensitive*, ya que sabemos que en algunos idiomas tienen un uso particular de las mayúsculas y minúsculas."
   ]
  },
  {
   "cell_type": "code",
   "execution_count": null,
   "id": "bfe1d1d6",
   "metadata": {},
   "outputs": [
    {
     "name": "stderr",
     "output_type": "stream",
     "text": [
      "/home/juan/miniconda3/envs/tf_complete/lib/python3.9/site-packages/tqdm/auto.py:21: TqdmWarning: IProgress not found. Please update jupyter and ipywidgets. See https://ipywidgets.readthedocs.io/en/stable/user_install.html\n",
      "  from .autonotebook import tqdm as notebook_tqdm\n"
     ]
    }
   ],
   "source": [
    "# # Librerías necesarias\n",
    "import os\n",
    "import joblib\n",
    "import pickle\n",
    "import time\n",
    "import pandas as pd\n",
    "import numpy as np\n",
    "import tensorflow as tf\n",
    "from sklearn.preprocessing import LabelEncoder\n",
    "from transformers import TFDistilBertModel, DistilBertTokenizer\n",
    "from livelossplot import PlotLossesKerasTF\n",
    "from utils import classification_metrics_report\n"
   ]
  },
  {
   "cell_type": "markdown",
   "id": "ba0aeff3",
   "metadata": {},
   "source": [
    "## 1. Preprocesamiento de los datos"
   ]
  },
  {
   "cell_type": "markdown",
   "id": "3f7e3bd5",
   "metadata": {},
   "source": [
    "### Lectura y prepraración de los datos\n",
    "Comenzamos leyendo las particiones de entrenamiento, validación y test que habíamos creado previamente. "
   ]
  },
  {
   "cell_type": "code",
   "execution_count": 15,
   "id": "6866226d",
   "metadata": {},
   "outputs": [],
   "source": [
    "# Leemos los datos\n",
    "df_train = pd.read_csv(os.path.join(\"data\",\"raw\",\"train.csv\"))\n",
    "df_val = pd.read_csv(os.path.join(\"data\",\"raw\",\"val.csv\"))\n",
    "df_test = pd.read_csv(os.path.join(\"data\",\"raw\",\"test.csv\"))\n",
    "\n",
    "# Veamos nuestro DataFrame\n",
    "df_train.head(5)\n",
    "\n",
    "# Separamos las variables que usaremos\n",
    "train_texts = df_train[\"text\"]\n",
    "val_texts = df_val[\"text\"]\n",
    "test_texts = df_test[\"text\"]\n",
    "\n",
    "y_train = df_train[\"language\"]\n",
    "y_val = df_val[\"language\"]\n",
    "y_test = df_test[\"language\"]"
   ]
  },
  {
   "cell_type": "markdown",
   "id": "ca623271",
   "metadata": {},
   "source": [
    "### Preprocesamiento\n",
    "Eliminamos los números"
   ]
  },
  {
   "cell_type": "code",
   "execution_count": 16,
   "id": "17ffa685",
   "metadata": {},
   "outputs": [],
   "source": [
    "# Eliminar números de cada conjunto de textos\n",
    "train_texts = train_texts.str.replace(r'\\d+', '', regex=True)\n",
    "val_texts = val_texts.str.replace(r'\\d+', '', regex=True)\n",
    "test_texts = test_texts.str.replace(r'\\d+', '', regex=True)"
   ]
  },
  {
   "cell_type": "markdown",
   "id": "3281ae50",
   "metadata": {},
   "source": [
    "### Tokenización y vectorización"
   ]
  },
  {
   "cell_type": "code",
   "execution_count": 17,
   "id": "ca2aa480",
   "metadata": {},
   "outputs": [],
   "source": [
    "# Tokenizar los datasets (se truncan al tamaño de la ventana)\n",
    "tokenizer = DistilBertTokenizer.from_pretrained('distilbert-base-multilingual-cased')\n",
    "\n",
    "\n",
    "X_train_encodings = tokenizer(list(train_texts), truncation=True, padding=True, return_tensors='tf')\n",
    "X_val_encodings = tokenizer(list(val_texts), truncation=True, padding=True, return_tensors='tf')\n",
    "X_test_encodings = tokenizer(list(test_texts), truncation=True, padding=True, return_tensors='tf')\n",
    "\n",
    "# Codificamos la variable objetivo\n",
    "le = LabelEncoder()\n",
    "y_train_enc = le.fit_transform(y_train)  \n",
    "y_val_enc = le.transform(y_val)\n",
    "y_test_enc = le.transform(y_test)\n",
    "\n",
    "y_train_tensor = tf.convert_to_tensor(y_train_enc)\n",
    "y_val_tensor = tf.convert_to_tensor(y_val_enc)\n",
    "y_test_tensor = tf.convert_to_tensor(y_test_enc)"
   ]
  },
  {
   "cell_type": "markdown",
   "id": "7b33edd1",
   "metadata": {},
   "source": [
    "### Creación de tf.Dataset\n",
    "Mejora la eficiencia durante el entrenamiento"
   ]
  },
  {
   "cell_type": "code",
   "execution_count": null,
   "id": "9dcfeb95",
   "metadata": {},
   "outputs": [],
   "source": [
    "# Create tf.data.Dataset\n",
    "train_dataset = tf.data.Dataset.from_tensor_slices((\n",
    "    {\n",
    "        'input_ids': X_train_encodings['input_ids'],\n",
    "        'attention_mask': X_train_encodings['attention_mask']\n",
    "    },\n",
    "    y_train_tensor\n",
    ")).shuffle(len(X_train_encodings)).batch(16).prefetch(tf.data.AUTOTUNE)\n",
    "\n",
    "val_dataset = tf.data.Dataset.from_tensor_slices((\n",
    "    {\n",
    "        'input_ids': X_val_encodings['input_ids'],\n",
    "        'attention_mask': X_val_encodings['attention_mask']\n",
    "    },\n",
    "    y_val_tensor\n",
    ")).batch(16).prefetch(tf.data.AUTOTUNE)\n",
    "\n",
    "test_dataset = tf.data.Dataset.from_tensor_slices((\n",
    "    {\n",
    "        'input_ids': X_test_encodings['input_ids'],\n",
    "        'attention_mask': X_test_encodings['attention_mask']\n",
    "    },\n",
    "    y_test_tensor\n",
    ")).batch(16).prefetch(tf.data.AUTOTUNE)"
   ]
  },
  {
   "cell_type": "markdown",
   "id": "b31ba4b5",
   "metadata": {},
   "source": [
    "## 2. Definición del modelo"
   ]
  },
  {
   "cell_type": "code",
   "execution_count": null,
   "id": "a69198ef",
   "metadata": {},
   "outputs": [
    {
     "name": "stderr",
     "output_type": "stream",
     "text": [
      "Some weights of the PyTorch model were not used when initializing the TF 2.0 model TFDistilBertModel: ['vocab_layer_norm.bias', 'vocab_transform.bias', 'vocab_transform.weight', 'vocab_projector.bias', 'vocab_layer_norm.weight']\n",
      "- This IS expected if you are initializing TFDistilBertModel from a PyTorch model trained on another task or with another architecture (e.g. initializing a TFBertForSequenceClassification model from a BertForPreTraining model).\n",
      "- This IS NOT expected if you are initializing TFDistilBertModel from a PyTorch model that you expect to be exactly identical (e.g. initializing a TFBertForSequenceClassification model from a BertForSequenceClassification model).\n",
      "All the weights of TFDistilBertModel were initialized from the PyTorch model.\n",
      "If your task is similar to the task the model of the checkpoint was trained on, you can already use TFDistilBertModel for predictions without further training.\n"
     ]
    }
   ],
   "source": [
    "# Número de idiomas\n",
    "num_classes = y_train.nunique()\n",
    "\n",
    "# Tamaño de la representación oculta de DistilBERT\n",
    "hidden_size = 768  \n",
    "\n",
    "# Cargar modelo DistilBERT preentrenado\n",
    "distilbert_model = TFDistilBertModel.from_pretrained('distilbert-base-multilingual-cased')\n",
    "distilbert_model.trainable = False  # Congelamos sus pesos\n",
    "\n",
    "# Entradas\n",
    "input_ids = tf.keras.Input(shape=(None,), dtype=tf.int32, name='input_ids')\n",
    "attention_mask = tf.keras.Input(shape=(None,), dtype=tf.int32, name='attention_mask')\n",
    "\n",
    "# --- MeanPooling Layer personalizada ---\n",
    "# Dado que estamos el modelo sin hacer finetuning y en distilbert el token [CLS]\n",
    "# no se ha usado durante el entrenamiento, emplearemos la media de los embedding\n",
    "# de las palabras \n",
    "@keras.saving.register_keras_serializable()\n",
    "class MeanPooling(tf.keras.layers.Layer):\n",
    "    def call(self, hidden_states, attention_mask):\n",
    "        mask = tf.cast(tf.expand_dims(attention_mask, -1), tf.float32)  # (batch, seq_len, 1)\n",
    "        masked_hidden = hidden_states * mask\n",
    "        sum_hidden = tf.reduce_sum(masked_hidden, axis=1)  # (batch, hidden_size)\n",
    "        sum_mask = tf.reduce_sum(mask, axis=1)  # (batch, 1)\n",
    "        return sum_hidden / tf.maximum(sum_mask, 1e-9)  # evitar división por 0\n",
    "\n",
    "# Extraemos los embeddings de DistilBERT\n",
    "bert_outputs = distilbert_model(input_ids, attention_mask=attention_mask, return_dict=True)\n",
    "sequence_output = bert_outputs.last_hidden_state  # (batch, seq_len, hidden_size)\n",
    "\n",
    "# Aplicamos mean pooling\n",
    "mean_pooled = MeanPooling()(sequence_output, attention_mask)\n",
    "\n",
    "# Clasificación\n",
    "x = tf.keras.layers.Dense(256, activation='relu')(mean_pooled)\n",
    "x = tf.keras.layers.Dropout(0.2)(x)\n",
    "output = tf.keras.layers.Dense(num_classes, activation='softmax')(x)\n",
    "\n",
    "# Modelo final\n",
    "model = tf.keras.Model(inputs=[input_ids, attention_mask], outputs=output)"
   ]
  },
  {
   "cell_type": "code",
   "execution_count": 21,
   "id": "9977475d",
   "metadata": {},
   "outputs": [
    {
     "name": "stdout",
     "output_type": "stream",
     "text": [
      "Model: \"model_1\"\n",
      "__________________________________________________________________________________________________\n",
      " Layer (type)                Output Shape                 Param #   Connected to                  \n",
      "==================================================================================================\n",
      " input_ids (InputLayer)      [(None, None)]               0         []                            \n",
      "                                                                                                  \n",
      " attention_mask (InputLayer  [(None, None)]               0         []                            \n",
      " )                                                                                                \n",
      "                                                                                                  \n",
      " tf_distil_bert_model_1 (TF  TFBaseModelOutput(last_hid   1347340   ['input_ids[0][0]',           \n",
      " DistilBertModel)            den_state=(None, None, 768   80         'attention_mask[0][0]']      \n",
      "                             ),                                                                   \n",
      "                              hidden_states=None, atten                                           \n",
      "                             tions=None)                                                          \n",
      "                                                                                                  \n",
      " mean_pooling_1 (MeanPoolin  (None, 768)                  0         ['tf_distil_bert_model_1[0][0]\n",
      " g)                                                                 ',                            \n",
      "                                                                     'attention_mask[0][0]']      \n",
      "                                                                                                  \n",
      " dense_2 (Dense)             (None, 256)                  196864    ['mean_pooling_1[0][0]']      \n",
      "                                                                                                  \n",
      " dropout_39 (Dropout)        (None, 256)                  0         ['dense_2[0][0]']             \n",
      "                                                                                                  \n",
      " dense_3 (Dense)             (None, 12)                   3084      ['dropout_39[0][0]']          \n",
      "                                                                                                  \n",
      "==================================================================================================\n",
      "Total params: 134934028 (514.73 MB)\n",
      "Trainable params: 199948 (781.05 KB)\n",
      "Non-trainable params: 134734080 (513.97 MB)\n",
      "__________________________________________________________________________________________________\n"
     ]
    }
   ],
   "source": [
    "# Compilamos el modelo\n",
    "model.compile(\n",
    "    optimizer=tf.keras.optimizers.AdamW(learning_rate=1e-4),\n",
    "    loss='sparse_categorical_crossentropy',\n",
    "    metrics=['accuracy']\n",
    ")\n",
    "\n",
    "# Veámoslo\n",
    "model.summary()"
   ]
  },
  {
   "cell_type": "markdown",
   "id": "c87b9436",
   "metadata": {},
   "source": [
    "## 3. Entrenamiento de la cabeza del modelo\n",
    "Antes de hacer fine-tuning del modelo, vamos a entrenar la cabeza clasificadora."
   ]
  },
  {
   "cell_type": "code",
   "execution_count": 22,
   "id": "b06af8bd",
   "metadata": {},
   "outputs": [
    {
     "data": {
      "image/png": "[encoded data removed]",
      "text/plain": [
       "<Figure size 1200x800 with 2 Axes>"
      ]
     },
     "metadata": {},
     "output_type": "display_data"
    },
    {
     "name": "stdout",
     "output_type": "stream",
     "text": [
      "accuracy\n",
      "\ttraining         \t (min:    0.975, max:    0.997, cur:    0.997)\n",
      "\tvalidation       \t (min:    0.995, max:    0.996, cur:    0.996)\n",
      "Loss\n",
      "\ttraining         \t (min:    0.010, max:    0.187, cur:    0.010)\n",
      "\tvalidation       \t (min:    0.013, max:    0.021, cur:    0.013)\n",
      "1313/1313 [==============================] - 89s 68ms/step - loss: 0.0101 - accuracy: 0.9972 - val_loss: 0.0133 - val_accuracy: 0.9961\n"
     ]
    },
    {
     "data": {
      "text/plain": [
       "<tf_keras.src.callbacks.History at 0x7f93e6011460>"
      ]
     },
     "execution_count": 22,
     "metadata": {},
     "output_type": "execute_result"
    }
   ],
   "source": [
    "# Definir el callback de Early Stopping\n",
    "early_stopping = tf.keras.callbacks.EarlyStopping(\n",
    "    monitor='val_loss',    # Monitoriza la pérdida en la validación\n",
    "    patience=2,            # Número de épocas sin mejora antes de detener el entrenamiento\n",
    "    restore_best_weights=True # Restaura los mejores pesos al finalizar\n",
    ")\n",
    "\n",
    "model.fit(\n",
    "    train_dataset,\n",
    "    validation_data=val_dataset,\n",
    "    epochs=20,\n",
    "    callbacks=[PlotLossesKerasTF(),\n",
    "               early_stopping]\n",
    ")"
   ]
  },
  {
   "cell_type": "code",
   "execution_count": 23,
   "id": "c422573a",
   "metadata": {},
   "outputs": [
    {
     "name": "stderr",
     "output_type": "stream",
     "text": [
      "/home/juan/miniconda3/envs/tf_complete/lib/python3.9/site-packages/transformers/generation/tf_utils.py:465: UserWarning: `seed_generator` is deprecated and will be removed in a future version.\n",
      "  warnings.warn(\"`seed_generator` is deprecated and will be removed in a future version.\", UserWarning)\n"
     ]
    },
    {
     "data": {
      "text/plain": [
       "['models/bert/bert_model1.joblib']"
      ]
     },
     "execution_count": 23,
     "metadata": {},
     "output_type": "execute_result"
    }
   ],
   "source": [
    "# Creamos el directorio si no existe\n",
    "model_dir = os.path.join(\"models\",\"bert\")\n",
    "os.makedirs(model_dir, exist_ok=True)\n",
    "\n",
    "# Guardamos el modelo entrenado\n",
    "joblib.dump(model, os.path.join(model_dir,'bert_model1.joblib'))"
   ]
  },
  {
   "cell_type": "markdown",
   "id": "64e6eeb7",
   "metadata": {},
   "source": [
    "### Guardar el modelo"
   ]
  },
  {
   "cell_type": "code",
   "execution_count": null,
   "id": "4256752c",
   "metadata": {},
   "outputs": [],
   "source": [
    "# Creamos el directorio si no existe\n",
    "model_dir = os.path.join(\"models\",\"bert\")\n",
    "os.makedirs(model_dir, exist_ok=True)\n",
    "\n",
    "# # Guardamos el modelo entrenado\n",
    "# joblib.dump(model, os.path.join(model_dir,'bert_model1.joblib'))"
   ]
  },
  {
   "cell_type": "code",
   "execution_count": null,
   "id": "e3918bd1",
   "metadata": {},
   "outputs": [],
   "source": [
    "# Cargar el modelo guardado\n",
    "loaded_model = joblib.load(os.path.join(model_dir,'bert_model1.joblib'))\n"
   ]
  },
  {
   "cell_type": "markdown",
   "id": "4ee052fd",
   "metadata": {},
   "source": [
    "## 4. Fine-tuning del encoder \n",
    "Una vez que los pesos de la cabeza ya están más o menos ajustados, vamos a probar a hacer fine-tuning de los dos últimos bloques del transformer (y de la cabeza clasificadora)."
   ]
  },
  {
   "cell_type": "code",
   "execution_count": null,
   "id": "632d01b9",
   "metadata": {},
   "outputs": [],
   "source": [
    "# Descongela todo el modelo primero\n",
    "distilbert_model.trainable = True\n",
    "\n",
    "# Congela las primeras 4 capas del encoder\n",
    "# Solo haremos fine-tuning de las 2 últimas\n",
    "for i in range(4):\n",
    "    distilbert_model.distilbert.transformer.layer[i].trainable = False\n",
    "\n",
    "# Veamos que ahora el número de parámetros entrenables ha aumentado\n",
    "model.summary()"
   ]
  },
  {
   "cell_type": "code",
   "execution_count": null,
   "id": "fa073f24",
   "metadata": {},
   "outputs": [],
   "source": [
    "# Compilar el modelo\n",
    "# Empleamos Adam con Weight Decay\n",
    "optimizer = tf.keras.optimizers.AdamW(learning_rate=1e-5)  # Más bajo que el usado para entrenar la cabeza\n",
    "model.compile(optimizer=optimizer, loss='sparse_categorical_crossentropy', metrics=['accuracy'])"
   ]
  },
  {
   "cell_type": "code",
   "execution_count": null,
   "id": "e4b2ce66",
   "metadata": {},
   "outputs": [
    {
     "data": {
      "image/png": "[encoded data removed]",
      "text/plain": [
       "<Figure size 1200x800 with 2 Axes>"
      ]
     },
     "metadata": {},
     "output_type": "display_data"
    },
    {
     "name": "stdout",
     "output_type": "stream",
     "text": [
      "accuracy\n",
      "\ttraining         \t (min:    0.996, max:    0.999, cur:    0.999)\n",
      "\tvalidation       \t (min:    0.997, max:    0.997, cur:    0.997)\n",
      "Loss\n",
      "\ttraining         \t (min:    0.004, max:    0.014, cur:    0.004)\n",
      "\tvalidation       \t (min:    0.012, max:    0.016, cur:    0.015)\n",
      "1313/1313 [==============================] - 211s 161ms/step - loss: 0.0044 - accuracy: 0.9986 - val_loss: 0.0152 - val_accuracy: 0.9972\n"
     ]
    },
    {
     "data": {
      "text/plain": [
       "<tf_keras.src.callbacks.History at 0x7f930452f160>"
      ]
     },
     "execution_count": 28,
     "metadata": {},
     "output_type": "execute_result"
    }
   ],
   "source": [
    "# Entrenamos el modelo\n",
    "\n",
    "model.fit(\n",
    "    train_dataset,\n",
    "    validation_data=val_dataset,\n",
    "    epochs=20,\n",
    "    callbacks=[PlotLossesKerasTF(),\n",
    "               early_stopping]\n",
    ")"
   ]
  },
  {
   "cell_type": "markdown",
   "id": "b36b2fdc",
   "metadata": {},
   "source": [
    "Reducir el tamaño de batch durante el entrenamiento, reducir la tasa de aprendizaje, aumentar la tasa de Dropout y aumentar la tasa de regularización podrian  ayudar a combatir el sobreajuste, llegando a alcanzar rendimientos superiores. Igualmente, aumentar el tamaño y la complejidad del dataset podrían ayudarnos a evitar igualmente el sobreajuste."
   ]
  },
  {
   "cell_type": "markdown",
   "id": "f68d170b",
   "metadata": {},
   "source": [
    "### Guardar el modelo"
   ]
  },
  {
   "cell_type": "code",
   "execution_count": null,
   "id": "49daf8fa",
   "metadata": {},
   "outputs": [
    {
     "data": {
      "text/plain": [
       "['models/bert/bert_model_fine_tuned1.joblib']"
      ]
     },
     "execution_count": 29,
     "metadata": {},
     "output_type": "execute_result"
    }
   ],
   "source": [
    "# Creamos el directorio si no existe\n",
    "model_dir = os.path.join(\"models\",\"bert\")\n",
    "os.makedirs(model_dir, exist_ok=True)\n",
    "\n",
    "# # Guardamos el modelo entrenado\n",
    "# joblib.dump(model, os.path.join(model_dir,'bert_model_fine_tuned1.joblib'))"
   ]
  },
  {
   "cell_type": "markdown",
   "id": "670081ec",
   "metadata": {},
   "source": [
    "## 5. Evaluación"
   ]
  },
  {
   "cell_type": "code",
   "execution_count": null,
   "id": "94c4ec1a",
   "metadata": {},
   "outputs": [
    {
     "name": "stdout",
     "output_type": "stream",
     "text": [
      "563/563 [==============================] - 49s 87ms/step\n",
      "=== Global Metrics ===\n",
      " accuracy  precision_macro  recall_macro  f1_macro\n",
      " 0.996889         0.996894      0.996861  0.996873\n",
      "\n",
      "=== Per-Class Metrics ===\n",
      "label  precision   recall       f1  support\n",
      "   cs   0.994475 0.997230 0.995851      722\n",
      "   da   0.998656 0.995979 0.997315      746\n",
      "   de   0.997379 0.998688 0.998033      762\n",
      "   el   1.000000 1.000000 1.000000      733\n",
      "   es   0.993151 0.997249 0.995196      727\n",
      "   fi   0.998726 0.998726 0.998726      785\n",
      "   fr   0.997368 0.998682 0.998025      759\n",
      "   it   0.993289 0.998650 0.995962      741\n",
      "   pl   0.997271 0.993207 0.995235      736\n",
      "   pt   0.998667 0.993369 0.996011      754\n",
      "   sl   1.000000 0.990553 0.995254      741\n",
      "   sv   0.993750 1.000000 0.996865      795\n",
      "\n",
      "=== Metrics Per Size ===\n",
      "  size  accuracy  precision_macro  recall_macro  f1_macro\n",
      " large  1.000000         1.000000      1.000000  1.000000\n",
      "medium  0.999332         0.999312      0.999325  0.999318\n",
      " small  0.985923         0.985814      0.985646  0.985617\n",
      "\n",
      "=== Confusion Matrix ===\n",
      "     cs   da   de   el   es   fi   fr   it   pl   pt   sl   sv\n",
      "cs  720    1    0    0    0    0    0    1    0    0    0    0\n",
      "da    0  743    0    0    0    0    0    0    0    0    0    3\n",
      "de    0    0  761    0    0    0    1    0    0    0    0    0\n",
      "el    0    0    0  733    0    0    0    0    0    0    0    0\n",
      "es    0    0    0    0  725    0    0    1    0    1    0    0\n",
      "fi    0    0    1    0    0  784    0    0    0    0    0    0\n",
      "fr    0    0    0    0    1    0  758    0    0    0    0    0\n",
      "it    0    0    0    0    1    0    0  740    0    0    0    0\n",
      "pl    2    0    1    0    1    0    0    0  731    0    0    1\n",
      "pt    0    0    0    0    1    0    1    2    1  749    0    0\n",
      "sl    2    0    0    0    1    1    0    1    1    0  734    1\n",
      "sv    0    0    0    0    0    0    0    0    0    0    0  795\n",
      "Latencia: 49953.39 ms\n"
     ]
    }
   ],
   "source": [
    "# Hacemos las predicciones monitoreando la latencia del modelo\n",
    "start = time.time()\n",
    "preds = model.predict(test_dataset)\n",
    "end = time.time()\n",
    "\n",
    "preds_class = preds.argmax(axis = 1)\n",
    "preds_str = le.inverse_transform(preds_class)\n",
    "\n",
    "# Empleamos una función personalizada para ver un report del rendimiento\n",
    "results_bert = classification_metrics_report(y_test, preds_str, df_test[\"n_words\"])\n",
    "\n",
    "# Latencia\n",
    "latency_ms = (end - start) * 1000  # milisegundos\n",
    "print(f\"Latencia: {latency_ms:.2f} ms\")"
   ]
  },
  {
   "cell_type": "markdown",
   "id": "08d6ad14",
   "metadata": {},
   "source": [
    "Lo primero y más evidente es que la latencia del modelo es mucho más alta que en los anteriores (40 veces más). También, hay que tener en cuenta que el modelo pesa mucho más y su entrenamiento lleva varias horas. Es necesario decir, que probablemente se podrían llegar a obtener mejores resultados si aplicásemos más regularización para evitar el sobreajuste."
   ]
  },
  {
   "cell_type": "code",
   "execution_count": null,
   "id": "bfc013eb",
   "metadata": {},
   "outputs": [],
   "source": [
    "# Guardamos los resultados\n",
    "with open(os.path.join(model_dir,\"results.json\"), \"wb\") as f:\n",
    "    pickle.dump(results_bert, f)"
   ]
  },
  {
   "cell_type": "markdown",
   "id": "9aa06c00",
   "metadata": {},
   "source": [
    "## 6. Análisis de errores"
   ]
  },
  {
   "cell_type": "code",
   "execution_count": 31,
   "id": "d91a8aaa",
   "metadata": {},
   "outputs": [],
   "source": [
    "def sorted_dict_probs(pred_probs:np.array):\n",
    "    \n",
    "    return dict(sorted(zip(le.classes_,np.round(pred_probs,3)), key=lambda x: x[1], reverse=True))"
   ]
  },
  {
   "cell_type": "code",
   "execution_count": 32,
   "id": "b6a20a15",
   "metadata": {},
   "outputs": [
    {
     "data": {
      "application/vnd.microsoft.datawrangler.viewer.v0+json": {
       "columns": [
        {
         "name": "index",
         "rawType": "int64",
         "type": "integer"
        },
        {
         "name": "text",
         "rawType": "object",
         "type": "string"
        },
        {
         "name": "language",
         "rawType": "object",
         "type": "string"
        },
        {
         "name": "n_words",
         "rawType": "int64",
         "type": "integer"
        },
        {
         "name": "pred",
         "rawType": "object",
         "type": "string"
        },
        {
         "name": "scores",
         "rawType": "object",
         "type": "unknown"
        }
       ],
       "ref": "b9ab8d6b-7228-49bc-910c-e6a589e7674b",
       "rows": [
        [
         "155",
         "Estou a contar convosco.\n",
         "pt",
         "4",
         "es",
         "{'es': 0.735, 'pt': 0.264, 'cs': 0.0, 'da': 0.0, 'de': 0.0, 'el': 0.0, 'fi': 0.0, 'fr': 0.0, 'it': 0.0, 'pl': 0.0, 'sl': 0.0, 'sv': 0.0}"
        ],
        [
         "394",
         "(La sesión, suspendida a las 13.10 horas, se reanuda a las 15.00 horas)\n",
         "pl",
         "11",
         "es",
         "{'es': 0.998, 'sl': 0.001, 'cs': 0.0, 'da': 0.0, 'de': 0.0, 'el': 0.0, 'fi': 0.0, 'fr': 0.0, 'it': 0.0, 'pl': 0.0, 'pt': 0.0, 'sv': 0.0}"
        ],
        [
         "1113",
         "Lembro­me perfeitamente.\n",
         "pt",
         "3",
         "it",
         "{'it': 0.42, 'es': 0.367, 'pt': 0.197, 'fr': 0.006, 'cs': 0.002, 'fi': 0.002, 'sv': 0.002, 'da': 0.001, 'el': 0.001, 'pl': 0.001, 'sl': 0.001, 'de': 0.0}"
        ],
        [
         "1728",
         "Hvad får vi?\n",
         "da",
         "3",
         "sv",
         "{'sv': 0.924, 'da': 0.076, 'cs': 0.0, 'de': 0.0, 'el': 0.0, 'es': 0.0, 'fi': 0.0, 'fr': 0.0, 'it': 0.0, 'pl': 0.0, 'pt': 0.0, 'sl': 0.0}"
        ],
        [
         "2112",
         "(The sitting closed at 16.35)\n",
         "sl",
         "4",
         "sv",
         "{'sv': 0.37, 'sl': 0.288, 'cs': 0.194, 'it': 0.037, 'fr': 0.028, 'el': 0.019, 'da': 0.015, 'es': 0.015, 'pl': 0.009, 'pt': 0.009, 'de': 0.008, 'fi': 0.007}"
        ],
        [
         "2375",
         "Citat slut.\n",
         "da",
         "2",
         "sv",
         "{'sv': 0.993, 'da': 0.003, 'cs': 0.002, 'es': 0.001, 'fr': 0.001, 'de': 0.0, 'el': 0.0, 'fi': 0.0, 'it': 0.0, 'pl': 0.0, 'pt': 0.0, 'sl': 0.0}"
        ],
        [
         "2578",
         "(Posiedzenie zostało otwarte o godz.\n",
         "pt",
         "5",
         "pl",
         "{'pl': 0.34, 'cs': 0.32, 'sl': 0.315, 'da': 0.012, 'it': 0.005, 'fi': 0.003, 'de': 0.002, 'el': 0.001, 'es': 0.001, 'fr': 0.001, 'sv': 0.001, 'pt': 0.0}"
        ],
        [
         "2712",
         "(Posiedzenie zostało otwarte o godz. 9.10)\n",
         "pl",
         "5",
         "cs",
         "{'cs': 0.564, 'sl': 0.247, 'pl': 0.166, 'da': 0.011, 'it': 0.004, 'fi': 0.002, 'de': 0.001, 'el': 0.001, 'es': 0.001, 'fr': 0.001, 'sv': 0.001, 'pt': 0.0}"
        ],
        [
         "2806",
         "Felicito-a!\n",
         "pt",
         "2",
         "it",
         "{'it': 0.984, 'pt': 0.015, 'cs': 0.0, 'da': 0.0, 'de': 0.0, 'el': 0.0, 'es': 0.0, 'fi': 0.0, 'fr': 0.0, 'pl': 0.0, 'sl': 0.0, 'sv': 0.0}"
        ],
        [
         "3694",
         "\"A-A.\n",
         "pt",
         "2",
         "fr",
         "{'fr': 0.433, 'pt': 0.239, 'es': 0.112, 'it': 0.051, 'cs': 0.049, 'sv': 0.048, 'de': 0.021, 'pl': 0.018, 'fi': 0.016, 'el': 0.008, 'da': 0.002, 'sl': 0.002}"
        ],
        [
         "3772",
         "- Rapport Díaz de Mera García Consuegra\n",
         "fr",
         "6",
         "es",
         "{'es': 0.64, 'fr': 0.275, 'pt': 0.076, 'it': 0.004, 'cs': 0.001, 'de': 0.001, 'el': 0.001, 'fi': 0.001, 'pl': 0.001, 'da': 0.0, 'sl': 0.0, 'sv': 0.0}"
        ],
        [
         "3839",
         "Program Marco Polo II (\n",
         "cs",
         "4",
         "da",
         "{'da': 0.3, 'fr': 0.298, 'de': 0.111, 'cs': 0.083, 'pt': 0.077, 'it': 0.037, 'sv': 0.033, 'es': 0.025, 'fi': 0.01, 'pl': 0.009, 'el': 0.008, 'sl': 0.008}"
        ],
        [
         "3846",
         "Forstår han den?\n",
         "da",
         "3",
         "sv",
         "{'sv': 0.988, 'da': 0.011, 'de': 0.001, 'cs': 0.0, 'el': 0.0, 'es': 0.0, 'fi': 0.0, 'fr': 0.0, 'it': 0.0, 'pl': 0.0, 'pt': 0.0, 'sl': 0.0}"
        ],
        [
         "3872",
         "Teroristi, morilci in komunisti!\n",
         "sl",
         "4",
         "it",
         "{'it': 0.978, 'sl': 0.022, 'cs': 0.0, 'da': 0.0, 'de': 0.0, 'el': 0.0, 'es': 0.0, 'fi': 0.0, 'fr': 0.0, 'pl': 0.0, 'pt': 0.0, 'sv': 0.0}"
        ],
        [
         "4070",
         "Osiem procent!\n",
         "pl",
         "2",
         "sv",
         "{'sv': 0.56, 'pl': 0.286, 'de': 0.059, 'cs': 0.037, 'da': 0.023, 'fr': 0.012, 'sl': 0.012, 'it': 0.004, 'pt': 0.004, 'fi': 0.002, 'el': 0.001, 'es': 0.001}"
        ],
        [
         "4482",
         "\"because [he has] nothing else here for you,\n",
         "sl",
         "8",
         "cs",
         "{'cs': 0.634, 'de': 0.115, 'pl': 0.074, 'fr': 0.043, 'sv': 0.037, 'it': 0.032, 'sl': 0.029, 'da': 0.015, 'es': 0.01, 'fi': 0.006, 'el': 0.003, 'pt': 0.001}"
        ],
        [
         "4598",
         "Ali veste kaj o tej temi?\n",
         "sl",
         "6",
         "pl",
         "{'pl': 0.429, 'sl': 0.394, 'cs': 0.13, 'it': 0.036, 'fi': 0.004, 'fr': 0.002, 'pt': 0.002, 'de': 0.001, 'es': 0.001, 'sv': 0.001, 'da': 0.0, 'el': 0.0}"
        ],
        [
         "4976",
         "- Bericht: McCarthy\n",
         "pl",
         "2",
         "de",
         "{'de': 0.959, 'fr': 0.024, 'cs': 0.005, 'pt': 0.003, 'da': 0.002, 'es': 0.002, 'el': 0.001, 'pl': 0.001, 'sl': 0.001, 'sv': 0.001, 'fi': 0.0, 'it': 0.0}"
        ],
        [
         "5673",
         "Al contrario!\n",
         "it",
         "2",
         "es",
         "{'es': 0.956, 'it': 0.027, 'pt': 0.015, 'pl': 0.001, 'cs': 0.0, 'da': 0.0, 'de': 0.0, 'el': 0.0, 'fi': 0.0, 'fr': 0.0, 'sl': 0.0, 'sv': 0.0}"
        ],
        [
         "5754",
         "Mutta miten?\n",
         "fi",
         "2",
         "de",
         "{'de': 0.999, 'cs': 0.0, 'da': 0.0, 'el': 0.0, 'es': 0.0, 'fi': 0.0, 'fr': 0.0, 'it': 0.0, 'pl': 0.0, 'pt': 0.0, 'sl': 0.0, 'sv': 0.0}"
        ],
        [
         "6789",
         "- Relazione: Herczog\n",
         "cs",
         "2",
         "it",
         "{'it': 0.953, 'sl': 0.029, 'es': 0.005, 'pt': 0.003, 'sv': 0.003, 'cs': 0.002, 'da': 0.002, 'el': 0.001, 'fi': 0.001, 'fr': 0.001, 'pl': 0.001, 'de': 0.0}"
        ],
        [
         "7412",
         "- Poročilo: Inés Ayala Sender\n",
         "sl",
         "4",
         "es",
         "{'es': 0.803, 'sl': 0.173, 'pt': 0.015, 'fr': 0.005, 'cs': 0.002, 'fi': 0.001, 'da': 0.0, 'de': 0.0, 'el': 0.0, 'it': 0.0, 'pl': 0.0, 'sv': 0.0}"
        ],
        [
         "7525",
         "por escrito. - A favor.\n",
         "es",
         "4",
         "pt",
         "{'pt': 0.981, 'es': 0.018, 'cs': 0.0, 'da': 0.0, 'de': 0.0, 'el': 0.0, 'fi': 0.0, 'fr': 0.0, 'it': 0.0, 'pl': 0.0, 'sl': 0.0, 'sv': 0.0}"
        ],
        [
         "7579",
         "- Poročilo: Miroslav Ouzký (A6-0395-2007)\n",
         "sl",
         "3",
         "cs",
         "{'cs': 0.785, 'sl': 0.178, 'fr': 0.027, 'pt': 0.004, 'es': 0.003, 'el': 0.001, 'fi': 0.001, 'it': 0.001, 'sv': 0.001, 'da': 0.0, 'de': 0.0, 'pl': 0.0}"
        ],
        [
         "7631",
         "Europa necesita a Galileo.\n",
         "es",
         "4",
         "it",
         "{'it': 0.571, 'es': 0.296, 'pt': 0.068, 'cs': 0.054, 'fr': 0.006, 'da': 0.001, 'fi': 0.001, 'pl': 0.001, 'de': 0.0, 'el': 0.0, 'sl': 0.0, 'sv': 0.0}"
        ],
        [
         "8242",
         "Klimawandel (annonce de propositions de résolution déposées): siehe Protokoll\n",
         "de",
         "9",
         "fr",
         "{'fr': 0.802, 'de': 0.189, 'cs': 0.003, 'es': 0.003, 'it': 0.001, 'pl': 0.001, 'pt': 0.001, 'da': 0.0, 'el': 0.0, 'fi': 0.0, 'sl': 0.0, 'sv': 0.0}"
        ],
        [
         "8660",
         "To bezdyskusyjne.\n",
         "pl",
         "2",
         "cs",
         "{'cs': 0.669, 'pl': 0.326, 'da': 0.001, 'fr': 0.001, 'de': 0.0, 'el': 0.0, 'es': 0.0, 'fi': 0.0, 'it': 0.0, 'pt': 0.0, 'sl': 0.0, 'sv': 0.0}"
        ],
        [
         "8708",
         "Hvala lepa.\n",
         "sl",
         "2",
         "fi",
         "{'fi': 0.857, 'sl': 0.079, 'sv': 0.045, 'es': 0.011, 'it': 0.004, 'cs': 0.002, 'fr': 0.002, 'da': 0.001, 'pl': 0.001, 'de': 0.0, 'el': 0.0, 'pt': 0.0}"
        ]
       ],
       "shape": {
        "columns": 5,
        "rows": 28
       }
      },
      "text/html": [
       "<div>\n",
       "<style scoped>\n",
       "    .dataframe tbody tr th:only-of-type {\n",
       "        vertical-align: middle;\n",
       "    }\n",
       "\n",
       "    .dataframe tbody tr th {\n",
       "        vertical-align: top;\n",
       "    }\n",
       "\n",
       "    .dataframe thead th {\n",
       "        text-align: right;\n",
       "    }\n",
       "</style>\n",
       "<table border=\"1\" class=\"dataframe\">\n",
       "  <thead>\n",
       "    <tr style=\"text-align: right;\">\n",
       "      <th></th>\n",
       "      <th>text</th>\n",
       "      <th>language</th>\n",
       "      <th>n_words</th>\n",
       "      <th>pred</th>\n",
       "      <th>scores</th>\n",
       "    </tr>\n",
       "  </thead>\n",
       "  <tbody>\n",
       "    <tr>\n",
       "      <th>155</th>\n",
       "      <td>Estou a contar convosco.\\n</td>\n",
       "      <td>pt</td>\n",
       "      <td>4</td>\n",
       "      <td>es</td>\n",
       "      <td>{'es': 0.735, 'pt': 0.264, 'cs': 0.0, 'da': 0....</td>\n",
       "    </tr>\n",
       "    <tr>\n",
       "      <th>394</th>\n",
       "      <td>(La sesión, suspendida a las 13.10 horas, se r...</td>\n",
       "      <td>pl</td>\n",
       "      <td>11</td>\n",
       "      <td>es</td>\n",
       "      <td>{'es': 0.998, 'sl': 0.001, 'cs': 0.0, 'da': 0....</td>\n",
       "    </tr>\n",
       "    <tr>\n",
       "      <th>1113</th>\n",
       "      <td>Lembro­me perfeitamente.\\n</td>\n",
       "      <td>pt</td>\n",
       "      <td>3</td>\n",
       "      <td>it</td>\n",
       "      <td>{'it': 0.42, 'es': 0.367, 'pt': 0.197, 'fr': 0...</td>\n",
       "    </tr>\n",
       "    <tr>\n",
       "      <th>1728</th>\n",
       "      <td>Hvad får vi?\\n</td>\n",
       "      <td>da</td>\n",
       "      <td>3</td>\n",
       "      <td>sv</td>\n",
       "      <td>{'sv': 0.924, 'da': 0.076, 'cs': 0.0, 'de': 0....</td>\n",
       "    </tr>\n",
       "    <tr>\n",
       "      <th>2112</th>\n",
       "      <td>(The sitting closed at 16.35)\\n</td>\n",
       "      <td>sl</td>\n",
       "      <td>4</td>\n",
       "      <td>sv</td>\n",
       "      <td>{'sv': 0.37, 'sl': 0.288, 'cs': 0.194, 'it': 0...</td>\n",
       "    </tr>\n",
       "    <tr>\n",
       "      <th>2375</th>\n",
       "      <td>Citat slut.\\n</td>\n",
       "      <td>da</td>\n",
       "      <td>2</td>\n",
       "      <td>sv</td>\n",
       "      <td>{'sv': 0.993, 'da': 0.003, 'cs': 0.002, 'es': ...</td>\n",
       "    </tr>\n",
       "    <tr>\n",
       "      <th>2578</th>\n",
       "      <td>(Posiedzenie zostało otwarte o godz.\\n</td>\n",
       "      <td>pt</td>\n",
       "      <td>5</td>\n",
       "      <td>pl</td>\n",
       "      <td>{'pl': 0.34, 'cs': 0.32, 'sl': 0.315, 'da': 0....</td>\n",
       "    </tr>\n",
       "    <tr>\n",
       "      <th>2712</th>\n",
       "      <td>(Posiedzenie zostało otwarte o godz. 9.10)\\n</td>\n",
       "      <td>pl</td>\n",
       "      <td>5</td>\n",
       "      <td>cs</td>\n",
       "      <td>{'cs': 0.564, 'sl': 0.247, 'pl': 0.166, 'da': ...</td>\n",
       "    </tr>\n",
       "    <tr>\n",
       "      <th>2806</th>\n",
       "      <td>Felicito-a!\\n</td>\n",
       "      <td>pt</td>\n",
       "      <td>2</td>\n",
       "      <td>it</td>\n",
       "      <td>{'it': 0.984, 'pt': 0.015, 'cs': 0.0, 'da': 0....</td>\n",
       "    </tr>\n",
       "    <tr>\n",
       "      <th>3694</th>\n",
       "      <td>\"A-A.\\n</td>\n",
       "      <td>pt</td>\n",
       "      <td>2</td>\n",
       "      <td>fr</td>\n",
       "      <td>{'fr': 0.433, 'pt': 0.239, 'es': 0.112, 'it': ...</td>\n",
       "    </tr>\n",
       "    <tr>\n",
       "      <th>3772</th>\n",
       "      <td>- Rapport Díaz de Mera García Consuegra\\n</td>\n",
       "      <td>fr</td>\n",
       "      <td>6</td>\n",
       "      <td>es</td>\n",
       "      <td>{'es': 0.64, 'fr': 0.275, 'pt': 0.076, 'it': 0...</td>\n",
       "    </tr>\n",
       "    <tr>\n",
       "      <th>3839</th>\n",
       "      <td>Program Marco Polo II (\\n</td>\n",
       "      <td>cs</td>\n",
       "      <td>4</td>\n",
       "      <td>da</td>\n",
       "      <td>{'da': 0.3, 'fr': 0.298, 'de': 0.111, 'cs': 0....</td>\n",
       "    </tr>\n",
       "    <tr>\n",
       "      <th>3846</th>\n",
       "      <td>Forstår han den?\\n</td>\n",
       "      <td>da</td>\n",
       "      <td>3</td>\n",
       "      <td>sv</td>\n",
       "      <td>{'sv': 0.988, 'da': 0.011, 'de': 0.001, 'cs': ...</td>\n",
       "    </tr>\n",
       "    <tr>\n",
       "      <th>3872</th>\n",
       "      <td>Teroristi, morilci in komunisti!\\n</td>\n",
       "      <td>sl</td>\n",
       "      <td>4</td>\n",
       "      <td>it</td>\n",
       "      <td>{'it': 0.978, 'sl': 0.022, 'cs': 0.0, 'da': 0....</td>\n",
       "    </tr>\n",
       "    <tr>\n",
       "      <th>4070</th>\n",
       "      <td>Osiem procent!\\n</td>\n",
       "      <td>pl</td>\n",
       "      <td>2</td>\n",
       "      <td>sv</td>\n",
       "      <td>{'sv': 0.56, 'pl': 0.286, 'de': 0.059, 'cs': 0...</td>\n",
       "    </tr>\n",
       "    <tr>\n",
       "      <th>4482</th>\n",
       "      <td>\"because [he has] nothing else here for you,\\n</td>\n",
       "      <td>sl</td>\n",
       "      <td>8</td>\n",
       "      <td>cs</td>\n",
       "      <td>{'cs': 0.634, 'de': 0.115, 'pl': 0.074, 'fr': ...</td>\n",
       "    </tr>\n",
       "    <tr>\n",
       "      <th>4598</th>\n",
       "      <td>Ali veste kaj o tej temi?\\n</td>\n",
       "      <td>sl</td>\n",
       "      <td>6</td>\n",
       "      <td>pl</td>\n",
       "      <td>{'pl': 0.429, 'sl': 0.394, 'cs': 0.13, 'it': 0...</td>\n",
       "    </tr>\n",
       "    <tr>\n",
       "      <th>4976</th>\n",
       "      <td>- Bericht: McCarthy\\n</td>\n",
       "      <td>pl</td>\n",
       "      <td>2</td>\n",
       "      <td>de</td>\n",
       "      <td>{'de': 0.959, 'fr': 0.024, 'cs': 0.005, 'pt': ...</td>\n",
       "    </tr>\n",
       "    <tr>\n",
       "      <th>5673</th>\n",
       "      <td>Al contrario!\\n</td>\n",
       "      <td>it</td>\n",
       "      <td>2</td>\n",
       "      <td>es</td>\n",
       "      <td>{'es': 0.956, 'it': 0.027, 'pt': 0.015, 'pl': ...</td>\n",
       "    </tr>\n",
       "    <tr>\n",
       "      <th>5754</th>\n",
       "      <td>Mutta miten?\\n</td>\n",
       "      <td>fi</td>\n",
       "      <td>2</td>\n",
       "      <td>de</td>\n",
       "      <td>{'de': 0.999, 'cs': 0.0, 'da': 0.0, 'el': 0.0,...</td>\n",
       "    </tr>\n",
       "    <tr>\n",
       "      <th>6789</th>\n",
       "      <td>- Relazione: Herczog\\n</td>\n",
       "      <td>cs</td>\n",
       "      <td>2</td>\n",
       "      <td>it</td>\n",
       "      <td>{'it': 0.953, 'sl': 0.029, 'es': 0.005, 'pt': ...</td>\n",
       "    </tr>\n",
       "    <tr>\n",
       "      <th>7412</th>\n",
       "      <td>- Poročilo: Inés Ayala Sender\\n</td>\n",
       "      <td>sl</td>\n",
       "      <td>4</td>\n",
       "      <td>es</td>\n",
       "      <td>{'es': 0.803, 'sl': 0.173, 'pt': 0.015, 'fr': ...</td>\n",
       "    </tr>\n",
       "    <tr>\n",
       "      <th>7525</th>\n",
       "      <td>por escrito. - A favor.\\n</td>\n",
       "      <td>es</td>\n",
       "      <td>4</td>\n",
       "      <td>pt</td>\n",
       "      <td>{'pt': 0.981, 'es': 0.018, 'cs': 0.0, 'da': 0....</td>\n",
       "    </tr>\n",
       "    <tr>\n",
       "      <th>7579</th>\n",
       "      <td>- Poročilo: Miroslav Ouzký (A6-0395-2007)\\n</td>\n",
       "      <td>sl</td>\n",
       "      <td>3</td>\n",
       "      <td>cs</td>\n",
       "      <td>{'cs': 0.785, 'sl': 0.178, 'fr': 0.027, 'pt': ...</td>\n",
       "    </tr>\n",
       "    <tr>\n",
       "      <th>7631</th>\n",
       "      <td>Europa necesita a Galileo.\\n</td>\n",
       "      <td>es</td>\n",
       "      <td>4</td>\n",
       "      <td>it</td>\n",
       "      <td>{'it': 0.571, 'es': 0.296, 'pt': 0.068, 'cs': ...</td>\n",
       "    </tr>\n",
       "    <tr>\n",
       "      <th>8242</th>\n",
       "      <td>Klimawandel (annonce de propositions de résolu...</td>\n",
       "      <td>de</td>\n",
       "      <td>9</td>\n",
       "      <td>fr</td>\n",
       "      <td>{'fr': 0.802, 'de': 0.189, 'cs': 0.003, 'es': ...</td>\n",
       "    </tr>\n",
       "    <tr>\n",
       "      <th>8660</th>\n",
       "      <td>To bezdyskusyjne.\\n</td>\n",
       "      <td>pl</td>\n",
       "      <td>2</td>\n",
       "      <td>cs</td>\n",
       "      <td>{'cs': 0.669, 'pl': 0.326, 'da': 0.001, 'fr': ...</td>\n",
       "    </tr>\n",
       "    <tr>\n",
       "      <th>8708</th>\n",
       "      <td>Hvala lepa.\\n</td>\n",
       "      <td>sl</td>\n",
       "      <td>2</td>\n",
       "      <td>fi</td>\n",
       "      <td>{'fi': 0.857, 'sl': 0.079, 'sv': 0.045, 'es': ...</td>\n",
       "    </tr>\n",
       "  </tbody>\n",
       "</table>\n",
       "</div>"
      ],
      "text/plain": [
       "                                                   text language  n_words  \\\n",
       "155                          Estou a contar convosco.\\n       pt        4   \n",
       "394   (La sesión, suspendida a las 13.10 horas, se r...       pl       11   \n",
       "1113                         Lembro­me perfeitamente.\\n       pt        3   \n",
       "1728                                     Hvad får vi?\\n       da        3   \n",
       "2112                    (The sitting closed at 16.35)\\n       sl        4   \n",
       "2375                                      Citat slut.\\n       da        2   \n",
       "2578             (Posiedzenie zostało otwarte o godz.\\n       pt        5   \n",
       "2712       (Posiedzenie zostało otwarte o godz. 9.10)\\n       pl        5   \n",
       "2806                                      Felicito-a!\\n       pt        2   \n",
       "3694                                            \"A-A.\\n       pt        2   \n",
       "3772          - Rapport Díaz de Mera García Consuegra\\n       fr        6   \n",
       "3839                          Program Marco Polo II (\\n       cs        4   \n",
       "3846                                 Forstår han den?\\n       da        3   \n",
       "3872                 Teroristi, morilci in komunisti!\\n       sl        4   \n",
       "4070                                   Osiem procent!\\n       pl        2   \n",
       "4482     \"because [he has] nothing else here for you,\\n       sl        8   \n",
       "4598                        Ali veste kaj o tej temi?\\n       sl        6   \n",
       "4976                              - Bericht: McCarthy\\n       pl        2   \n",
       "5673                                    Al contrario!\\n       it        2   \n",
       "5754                                     Mutta miten?\\n       fi        2   \n",
       "6789                             - Relazione: Herczog\\n       cs        2   \n",
       "7412                    - Poročilo: Inés Ayala Sender\\n       sl        4   \n",
       "7525                          por escrito. - A favor.\\n       es        4   \n",
       "7579        - Poročilo: Miroslav Ouzký (A6-0395-2007)\\n       sl        3   \n",
       "7631                       Europa necesita a Galileo.\\n       es        4   \n",
       "8242  Klimawandel (annonce de propositions de résolu...       de        9   \n",
       "8660                                To bezdyskusyjne.\\n       pl        2   \n",
       "8708                                      Hvala lepa.\\n       sl        2   \n",
       "\n",
       "     pred                                             scores  \n",
       "155    es  {'es': 0.735, 'pt': 0.264, 'cs': 0.0, 'da': 0....  \n",
       "394    es  {'es': 0.998, 'sl': 0.001, 'cs': 0.0, 'da': 0....  \n",
       "1113   it  {'it': 0.42, 'es': 0.367, 'pt': 0.197, 'fr': 0...  \n",
       "1728   sv  {'sv': 0.924, 'da': 0.076, 'cs': 0.0, 'de': 0....  \n",
       "2112   sv  {'sv': 0.37, 'sl': 0.288, 'cs': 0.194, 'it': 0...  \n",
       "2375   sv  {'sv': 0.993, 'da': 0.003, 'cs': 0.002, 'es': ...  \n",
       "2578   pl  {'pl': 0.34, 'cs': 0.32, 'sl': 0.315, 'da': 0....  \n",
       "2712   cs  {'cs': 0.564, 'sl': 0.247, 'pl': 0.166, 'da': ...  \n",
       "2806   it  {'it': 0.984, 'pt': 0.015, 'cs': 0.0, 'da': 0....  \n",
       "3694   fr  {'fr': 0.433, 'pt': 0.239, 'es': 0.112, 'it': ...  \n",
       "3772   es  {'es': 0.64, 'fr': 0.275, 'pt': 0.076, 'it': 0...  \n",
       "3839   da  {'da': 0.3, 'fr': 0.298, 'de': 0.111, 'cs': 0....  \n",
       "3846   sv  {'sv': 0.988, 'da': 0.011, 'de': 0.001, 'cs': ...  \n",
       "3872   it  {'it': 0.978, 'sl': 0.022, 'cs': 0.0, 'da': 0....  \n",
       "4070   sv  {'sv': 0.56, 'pl': 0.286, 'de': 0.059, 'cs': 0...  \n",
       "4482   cs  {'cs': 0.634, 'de': 0.115, 'pl': 0.074, 'fr': ...  \n",
       "4598   pl  {'pl': 0.429, 'sl': 0.394, 'cs': 0.13, 'it': 0...  \n",
       "4976   de  {'de': 0.959, 'fr': 0.024, 'cs': 0.005, 'pt': ...  \n",
       "5673   es  {'es': 0.956, 'it': 0.027, 'pt': 0.015, 'pl': ...  \n",
       "5754   de  {'de': 0.999, 'cs': 0.0, 'da': 0.0, 'el': 0.0,...  \n",
       "6789   it  {'it': 0.953, 'sl': 0.029, 'es': 0.005, 'pt': ...  \n",
       "7412   es  {'es': 0.803, 'sl': 0.173, 'pt': 0.015, 'fr': ...  \n",
       "7525   pt  {'pt': 0.981, 'es': 0.018, 'cs': 0.0, 'da': 0....  \n",
       "7579   cs  {'cs': 0.785, 'sl': 0.178, 'fr': 0.027, 'pt': ...  \n",
       "7631   it  {'it': 0.571, 'es': 0.296, 'pt': 0.068, 'cs': ...  \n",
       "8242   fr  {'fr': 0.802, 'de': 0.189, 'cs': 0.003, 'es': ...  \n",
       "8660   cs  {'cs': 0.669, 'pl': 0.326, 'da': 0.001, 'fr': ...  \n",
       "8708   fi  {'fi': 0.857, 'sl': 0.079, 'sv': 0.045, 'es': ...  "
      ]
     },
     "execution_count": 32,
     "metadata": {},
     "output_type": "execute_result"
    }
   ],
   "source": [
    "# Nos centramos en los errores\n",
    "df_errors = df_test[preds_class!=y_test_enc].copy()\n",
    "\n",
    "# Añadimos la clase predicha\n",
    "df_errors.loc[:,\"pred\"] = [pred for pred, true in zip(preds_str, y_test) if pred != true]\n",
    "\n",
    "# Añadimos las probabilidades\n",
    "df_errors.loc[:,\"scores\"] = [sorted_dict_probs(preds[i]) for i in range(len(test_texts)) if preds_str[i]!=y_test[i]]\n",
    "\n",
    "# Veamos los errores\n",
    "df_errors"
   ]
  },
  {
   "cell_type": "markdown",
   "id": "bbc90eee",
   "metadata": {},
   "source": [
    "- Confusión en los casos en los que aparecen varias lenguas:\n",
    "    - Klimawandel (annonce de propositions de résolution déposées): siehe Protokoll\n",
    "- Confusión cuando se introducen nombre de persona: \n",
    "    - \"Poročilo: Miroslav Ouzký (A6-0395-2007)\" etiquetado como esloveno pero clasificado como checo por el nombre\n",
    "    - \"Poročilo: Inés Ayala Sender\" etiquetado como esloveno pero clasificado como español por el nombre\n",
    "\n",
    "- Confusión entre las lenguas escandinavas y las lenguas romance.\n",
    "\n",
    "- Errores en el corpus:\n",
    "    - \"Relazione: Herczog\" etiquetado como checo, pero relazione no es una palabra en checo.\n",
    "    - \"(Posiedzenie zostało otwarte o godz.\" aparece etiquetada como portugués y el modelo detecta que es polaco\n",
    "    - ... (ya comentados anteriormente)\n",
    "\n",
    "- Errores sin sentido probablemente debidos a los signos de puntuación (probablemente mejor eliminarlos):\n",
    "    - \"(Posiedzenie zostało otwarte o godz.\" lo etiqueta como polaco\n",
    "    - \"(Posiedzenie zostało otwarte o godz. 9.10)\" lo etiqueta como checo, y para el modelo la única diferencia son los signos de puntuación (los números se eliminan)\n",
    "\n",
    "\n",
    "Ideas para futuros trabajos: \n",
    "    - Eliminar los signos de puntuación\n",
    "    - Detectar y eliminar nombres propios podría también mejorar el modelo\n",
    "    - Curar el corpus\n"
   ]
  },
  {
   "cell_type": "markdown",
   "id": "cdc3cd69",
   "metadata": {},
   "source": [
    "### Pruebas\n",
    "Hacemos algunas pruebas para ver el funcionamiento del modelo"
   ]
  },
  {
   "cell_type": "code",
   "execution_count": 33,
   "id": "7e57860f",
   "metadata": {},
   "outputs": [
    {
     "name": "stdout",
     "output_type": "stream",
     "text": [
      "1/1 [==============================] - 1s 678ms/step\n",
      "Idioma detectado: es\n"
     ]
    },
    {
     "data": {
      "application/vnd.microsoft.datawrangler.viewer.v0+json": {
       "columns": [
        {
         "name": "index",
         "rawType": "object",
         "type": "string"
        },
        {
         "name": "pred_probs",
         "rawType": "float32",
         "type": "float"
        }
       ],
       "ref": "4fa87318-1916-4ba1-b792-bc190b691e36",
       "rows": [
        [
         "cs",
         "0.0"
        ],
        [
         "da",
         "0.0"
        ],
        [
         "de",
         "0.0"
        ],
        [
         "el",
         "0.0"
        ],
        [
         "es",
         "1.0"
        ],
        [
         "fi",
         "0.0"
        ],
        [
         "fr",
         "0.0"
        ],
        [
         "it",
         "0.0"
        ],
        [
         "pl",
         "0.0"
        ],
        [
         "pt",
         "0.0"
        ],
        [
         "sl",
         "0.0"
        ],
        [
         "sv",
         "0.0"
        ]
       ],
       "shape": {
        "columns": 1,
        "rows": 12
       }
      },
      "text/html": [
       "<div>\n",
       "<style scoped>\n",
       "    .dataframe tbody tr th:only-of-type {\n",
       "        vertical-align: middle;\n",
       "    }\n",
       "\n",
       "    .dataframe tbody tr th {\n",
       "        vertical-align: top;\n",
       "    }\n",
       "\n",
       "    .dataframe thead th {\n",
       "        text-align: right;\n",
       "    }\n",
       "</style>\n",
       "<table border=\"1\" class=\"dataframe\">\n",
       "  <thead>\n",
       "    <tr style=\"text-align: right;\">\n",
       "      <th></th>\n",
       "      <th>pred_probs</th>\n",
       "    </tr>\n",
       "  </thead>\n",
       "  <tbody>\n",
       "    <tr>\n",
       "      <th>cs</th>\n",
       "      <td>0.0</td>\n",
       "    </tr>\n",
       "    <tr>\n",
       "      <th>da</th>\n",
       "      <td>0.0</td>\n",
       "    </tr>\n",
       "    <tr>\n",
       "      <th>de</th>\n",
       "      <td>0.0</td>\n",
       "    </tr>\n",
       "    <tr>\n",
       "      <th>el</th>\n",
       "      <td>0.0</td>\n",
       "    </tr>\n",
       "    <tr>\n",
       "      <th>es</th>\n",
       "      <td>1.0</td>\n",
       "    </tr>\n",
       "    <tr>\n",
       "      <th>fi</th>\n",
       "      <td>0.0</td>\n",
       "    </tr>\n",
       "    <tr>\n",
       "      <th>fr</th>\n",
       "      <td>0.0</td>\n",
       "    </tr>\n",
       "    <tr>\n",
       "      <th>it</th>\n",
       "      <td>0.0</td>\n",
       "    </tr>\n",
       "    <tr>\n",
       "      <th>pl</th>\n",
       "      <td>0.0</td>\n",
       "    </tr>\n",
       "    <tr>\n",
       "      <th>pt</th>\n",
       "      <td>0.0</td>\n",
       "    </tr>\n",
       "    <tr>\n",
       "      <th>sl</th>\n",
       "      <td>0.0</td>\n",
       "    </tr>\n",
       "    <tr>\n",
       "      <th>sv</th>\n",
       "      <td>0.0</td>\n",
       "    </tr>\n",
       "  </tbody>\n",
       "</table>\n",
       "</div>"
      ],
      "text/plain": [
       "    pred_probs\n",
       "cs         0.0\n",
       "da         0.0\n",
       "de         0.0\n",
       "el         0.0\n",
       "es         1.0\n",
       "fi         0.0\n",
       "fr         0.0\n",
       "it         0.0\n",
       "pl         0.0\n",
       "pt         0.0\n",
       "sl         0.0\n",
       "sv         0.0"
      ]
     },
     "execution_count": 33,
     "metadata": {},
     "output_type": "execute_result"
    }
   ],
   "source": [
    "text= \"Hola buenos días\" # Español\n",
    "tokenized_text = tokenizer(text, truncation=True, padding=True, return_tensors='tf')\n",
    "pred_probs = model.predict({\n",
    "    'input_ids': tokenized_text['input_ids'],\n",
    "    'attention_mask': tokenized_text['attention_mask']\n",
    "})\n",
    "\n",
    "df_probs = pd.DataFrame({\"pred_probs\":pred_probs.flatten()}, index=le.classes_)\n",
    "\n",
    "print(\"Idioma detectado:\", le.inverse_transform(pred_probs.argmax(axis=1))[0])\n",
    "df_probs.round(2)"
   ]
  },
  {
   "cell_type": "code",
   "execution_count": 34,
   "id": "fa9e71b4",
   "metadata": {},
   "outputs": [
    {
     "name": "stdout",
     "output_type": "stream",
     "text": [
      "1/1 [==============================] - 1s 679ms/step\n",
      "Idioma detectado: es\n"
     ]
    },
    {
     "data": {
      "application/vnd.microsoft.datawrangler.viewer.v0+json": {
       "columns": [
        {
         "name": "index",
         "rawType": "object",
         "type": "string"
        },
        {
         "name": "pred_probs",
         "rawType": "float32",
         "type": "float"
        }
       ],
       "ref": "ace38dfc-b9e7-498d-bcd0-2839976c92c6",
       "rows": [
        [
         "cs",
         "0.0"
        ],
        [
         "da",
         "0.0"
        ],
        [
         "de",
         "0.0"
        ],
        [
         "el",
         "0.0"
        ],
        [
         "es",
         "0.86"
        ],
        [
         "fi",
         "0.0"
        ],
        [
         "fr",
         "0.0"
        ],
        [
         "it",
         "0.0"
        ],
        [
         "pl",
         "0.0"
        ],
        [
         "pt",
         "0.14"
        ],
        [
         "sl",
         "0.0"
        ],
        [
         "sv",
         "0.0"
        ]
       ],
       "shape": {
        "columns": 1,
        "rows": 12
       }
      },
      "text/html": [
       "<div>\n",
       "<style scoped>\n",
       "    .dataframe tbody tr th:only-of-type {\n",
       "        vertical-align: middle;\n",
       "    }\n",
       "\n",
       "    .dataframe tbody tr th {\n",
       "        vertical-align: top;\n",
       "    }\n",
       "\n",
       "    .dataframe thead th {\n",
       "        text-align: right;\n",
       "    }\n",
       "</style>\n",
       "<table border=\"1\" class=\"dataframe\">\n",
       "  <thead>\n",
       "    <tr style=\"text-align: right;\">\n",
       "      <th></th>\n",
       "      <th>pred_probs</th>\n",
       "    </tr>\n",
       "  </thead>\n",
       "  <tbody>\n",
       "    <tr>\n",
       "      <th>cs</th>\n",
       "      <td>0.00</td>\n",
       "    </tr>\n",
       "    <tr>\n",
       "      <th>da</th>\n",
       "      <td>0.00</td>\n",
       "    </tr>\n",
       "    <tr>\n",
       "      <th>de</th>\n",
       "      <td>0.00</td>\n",
       "    </tr>\n",
       "    <tr>\n",
       "      <th>el</th>\n",
       "      <td>0.00</td>\n",
       "    </tr>\n",
       "    <tr>\n",
       "      <th>es</th>\n",
       "      <td>0.86</td>\n",
       "    </tr>\n",
       "    <tr>\n",
       "      <th>fi</th>\n",
       "      <td>0.00</td>\n",
       "    </tr>\n",
       "    <tr>\n",
       "      <th>fr</th>\n",
       "      <td>0.00</td>\n",
       "    </tr>\n",
       "    <tr>\n",
       "      <th>it</th>\n",
       "      <td>0.00</td>\n",
       "    </tr>\n",
       "    <tr>\n",
       "      <th>pl</th>\n",
       "      <td>0.00</td>\n",
       "    </tr>\n",
       "    <tr>\n",
       "      <th>pt</th>\n",
       "      <td>0.14</td>\n",
       "    </tr>\n",
       "    <tr>\n",
       "      <th>sl</th>\n",
       "      <td>0.00</td>\n",
       "    </tr>\n",
       "    <tr>\n",
       "      <th>sv</th>\n",
       "      <td>0.00</td>\n",
       "    </tr>\n",
       "  </tbody>\n",
       "</table>\n",
       "</div>"
      ],
      "text/plain": [
       "    pred_probs\n",
       "cs        0.00\n",
       "da        0.00\n",
       "de        0.00\n",
       "el        0.00\n",
       "es        0.86\n",
       "fi        0.00\n",
       "fr        0.00\n",
       "it        0.00\n",
       "pl        0.00\n",
       "pt        0.14\n",
       "sl        0.00\n",
       "sv        0.00"
      ]
     },
     "execution_count": 34,
     "metadata": {},
     "output_type": "execute_result"
    }
   ],
   "source": [
    "text= \"Cómo\" # Español\n",
    "tokenized_text = tokenizer(text, truncation=True, padding=True, return_tensors='tf')\n",
    "pred_probs = model.predict({\n",
    "    'input_ids': tokenized_text['input_ids'],\n",
    "    'attention_mask': tokenized_text['attention_mask']\n",
    "})\n",
    "\n",
    "df_probs = pd.DataFrame({\"pred_probs\":pred_probs.flatten()}, index=le.classes_)\n",
    "\n",
    "print(\"Idioma detectado:\", le.inverse_transform(pred_probs.argmax(axis=1))[0])\n",
    "df_probs.round(2)"
   ]
  },
  {
   "cell_type": "code",
   "execution_count": 35,
   "id": "72c47af1",
   "metadata": {},
   "outputs": [
    {
     "name": "stdout",
     "output_type": "stream",
     "text": [
      "1/1 [==============================] - 0s 30ms/step\n",
      "Idioma detectado: de\n"
     ]
    },
    {
     "data": {
      "application/vnd.microsoft.datawrangler.viewer.v0+json": {
       "columns": [
        {
         "name": "index",
         "rawType": "object",
         "type": "string"
        },
        {
         "name": "pred_probs",
         "rawType": "float32",
         "type": "float"
        }
       ],
       "ref": "a7ced308-87d0-4ada-a8f9-826332f7f57a",
       "rows": [
        [
         "cs",
         "0.0"
        ],
        [
         "da",
         "0.0"
        ],
        [
         "de",
         "1.0"
        ],
        [
         "el",
         "0.0"
        ],
        [
         "es",
         "0.0"
        ],
        [
         "fi",
         "0.0"
        ],
        [
         "fr",
         "0.0"
        ],
        [
         "it",
         "0.0"
        ],
        [
         "pl",
         "0.0"
        ],
        [
         "pt",
         "0.0"
        ],
        [
         "sl",
         "0.0"
        ],
        [
         "sv",
         "0.0"
        ]
       ],
       "shape": {
        "columns": 1,
        "rows": 12
       }
      },
      "text/html": [
       "<div>\n",
       "<style scoped>\n",
       "    .dataframe tbody tr th:only-of-type {\n",
       "        vertical-align: middle;\n",
       "    }\n",
       "\n",
       "    .dataframe tbody tr th {\n",
       "        vertical-align: top;\n",
       "    }\n",
       "\n",
       "    .dataframe thead th {\n",
       "        text-align: right;\n",
       "    }\n",
       "</style>\n",
       "<table border=\"1\" class=\"dataframe\">\n",
       "  <thead>\n",
       "    <tr style=\"text-align: right;\">\n",
       "      <th></th>\n",
       "      <th>pred_probs</th>\n",
       "    </tr>\n",
       "  </thead>\n",
       "  <tbody>\n",
       "    <tr>\n",
       "      <th>cs</th>\n",
       "      <td>0.0</td>\n",
       "    </tr>\n",
       "    <tr>\n",
       "      <th>da</th>\n",
       "      <td>0.0</td>\n",
       "    </tr>\n",
       "    <tr>\n",
       "      <th>de</th>\n",
       "      <td>1.0</td>\n",
       "    </tr>\n",
       "    <tr>\n",
       "      <th>el</th>\n",
       "      <td>0.0</td>\n",
       "    </tr>\n",
       "    <tr>\n",
       "      <th>es</th>\n",
       "      <td>0.0</td>\n",
       "    </tr>\n",
       "    <tr>\n",
       "      <th>fi</th>\n",
       "      <td>0.0</td>\n",
       "    </tr>\n",
       "    <tr>\n",
       "      <th>fr</th>\n",
       "      <td>0.0</td>\n",
       "    </tr>\n",
       "    <tr>\n",
       "      <th>it</th>\n",
       "      <td>0.0</td>\n",
       "    </tr>\n",
       "    <tr>\n",
       "      <th>pl</th>\n",
       "      <td>0.0</td>\n",
       "    </tr>\n",
       "    <tr>\n",
       "      <th>pt</th>\n",
       "      <td>0.0</td>\n",
       "    </tr>\n",
       "    <tr>\n",
       "      <th>sl</th>\n",
       "      <td>0.0</td>\n",
       "    </tr>\n",
       "    <tr>\n",
       "      <th>sv</th>\n",
       "      <td>0.0</td>\n",
       "    </tr>\n",
       "  </tbody>\n",
       "</table>\n",
       "</div>"
      ],
      "text/plain": [
       "    pred_probs\n",
       "cs         0.0\n",
       "da         0.0\n",
       "de         1.0\n",
       "el         0.0\n",
       "es         0.0\n",
       "fi         0.0\n",
       "fr         0.0\n",
       "it         0.0\n",
       "pl         0.0\n",
       "pt         0.0\n",
       "sl         0.0\n",
       "sv         0.0"
      ]
     },
     "execution_count": 35,
     "metadata": {},
     "output_type": "execute_result"
    }
   ],
   "source": [
    "text = \"Nicht\" # Alemán \n",
    "tokenized_text = tokenizer(text, truncation=True, padding=True, return_tensors='tf')\n",
    "pred_probs = model.predict({\n",
    "    'input_ids': tokenized_text['input_ids'],\n",
    "    'attention_mask': tokenized_text['attention_mask']\n",
    "})\n",
    "\n",
    "df_probs = pd.DataFrame({\"pred_probs\":pred_probs.flatten()}, index=le.classes_)\n",
    "\n",
    "print(\"Idioma detectado:\", le.inverse_transform(pred_probs.argmax(axis=1))[0])\n",
    "df_probs.round(2)"
   ]
  },
  {
   "cell_type": "code",
   "execution_count": 36,
   "id": "f09be658",
   "metadata": {},
   "outputs": [
    {
     "name": "stdout",
     "output_type": "stream",
     "text": [
      "1/1 [==============================] - 0s 32ms/step\n",
      "Idioma detectado: fr\n"
     ]
    },
    {
     "data": {
      "application/vnd.microsoft.datawrangler.viewer.v0+json": {
       "columns": [
        {
         "name": "index",
         "rawType": "object",
         "type": "string"
        },
        {
         "name": "pred_probs",
         "rawType": "float32",
         "type": "float"
        }
       ],
       "ref": "590631ad-d4e7-4bc4-a3c1-260d187d19ed",
       "rows": [
        [
         "cs",
         "0.0"
        ],
        [
         "da",
         "0.0"
        ],
        [
         "de",
         "0.0"
        ],
        [
         "el",
         "0.0"
        ],
        [
         "es",
         "0.01"
        ],
        [
         "fi",
         "0.0"
        ],
        [
         "fr",
         "0.98"
        ],
        [
         "it",
         "0.0"
        ],
        [
         "pl",
         "0.0"
        ],
        [
         "pt",
         "0.0"
        ],
        [
         "sl",
         "0.0"
        ],
        [
         "sv",
         "0.0"
        ]
       ],
       "shape": {
        "columns": 1,
        "rows": 12
       }
      },
      "text/html": [
       "<div>\n",
       "<style scoped>\n",
       "    .dataframe tbody tr th:only-of-type {\n",
       "        vertical-align: middle;\n",
       "    }\n",
       "\n",
       "    .dataframe tbody tr th {\n",
       "        vertical-align: top;\n",
       "    }\n",
       "\n",
       "    .dataframe thead th {\n",
       "        text-align: right;\n",
       "    }\n",
       "</style>\n",
       "<table border=\"1\" class=\"dataframe\">\n",
       "  <thead>\n",
       "    <tr style=\"text-align: right;\">\n",
       "      <th></th>\n",
       "      <th>pred_probs</th>\n",
       "    </tr>\n",
       "  </thead>\n",
       "  <tbody>\n",
       "    <tr>\n",
       "      <th>cs</th>\n",
       "      <td>0.00</td>\n",
       "    </tr>\n",
       "    <tr>\n",
       "      <th>da</th>\n",
       "      <td>0.00</td>\n",
       "    </tr>\n",
       "    <tr>\n",
       "      <th>de</th>\n",
       "      <td>0.00</td>\n",
       "    </tr>\n",
       "    <tr>\n",
       "      <th>el</th>\n",
       "      <td>0.00</td>\n",
       "    </tr>\n",
       "    <tr>\n",
       "      <th>es</th>\n",
       "      <td>0.01</td>\n",
       "    </tr>\n",
       "    <tr>\n",
       "      <th>fi</th>\n",
       "      <td>0.00</td>\n",
       "    </tr>\n",
       "    <tr>\n",
       "      <th>fr</th>\n",
       "      <td>0.98</td>\n",
       "    </tr>\n",
       "    <tr>\n",
       "      <th>it</th>\n",
       "      <td>0.00</td>\n",
       "    </tr>\n",
       "    <tr>\n",
       "      <th>pl</th>\n",
       "      <td>0.00</td>\n",
       "    </tr>\n",
       "    <tr>\n",
       "      <th>pt</th>\n",
       "      <td>0.00</td>\n",
       "    </tr>\n",
       "    <tr>\n",
       "      <th>sl</th>\n",
       "      <td>0.00</td>\n",
       "    </tr>\n",
       "    <tr>\n",
       "      <th>sv</th>\n",
       "      <td>0.00</td>\n",
       "    </tr>\n",
       "  </tbody>\n",
       "</table>\n",
       "</div>"
      ],
      "text/plain": [
       "    pred_probs\n",
       "cs        0.00\n",
       "da        0.00\n",
       "de        0.00\n",
       "el        0.00\n",
       "es        0.01\n",
       "fi        0.00\n",
       "fr        0.98\n",
       "it        0.00\n",
       "pl        0.00\n",
       "pt        0.00\n",
       "sl        0.00\n",
       "sv        0.00"
      ]
     },
     "execution_count": 36,
     "metadata": {},
     "output_type": "execute_result"
    }
   ],
   "source": [
    "text = \"Ça ne marche pas\" # Francés \n",
    "tokenized_text = tokenizer(text, truncation=True, padding=True, return_tensors='tf')\n",
    "pred_probs = model.predict({\n",
    "    'input_ids': tokenized_text['input_ids'],\n",
    "    'attention_mask': tokenized_text['attention_mask']\n",
    "})\n",
    "\n",
    "df_probs = pd.DataFrame({\"pred_probs\":pred_probs.flatten()}, index=le.classes_)\n",
    "\n",
    "print(\"Idioma detectado:\", le.inverse_transform(pred_probs.argmax(axis=1))[0])\n",
    "df_probs.round(2)"
   ]
  },
  {
   "cell_type": "code",
   "execution_count": 37,
   "id": "b2662678",
   "metadata": {},
   "outputs": [
    {
     "name": "stdout",
     "output_type": "stream",
     "text": [
      "1/1 [==============================] - 0s 31ms/step\n",
      "Idioma detectado: fr\n"
     ]
    },
    {
     "data": {
      "application/vnd.microsoft.datawrangler.viewer.v0+json": {
       "columns": [
        {
         "name": "index",
         "rawType": "object",
         "type": "string"
        },
        {
         "name": "pred_probs",
         "rawType": "float32",
         "type": "float"
        }
       ],
       "ref": "51033e48-3c32-4da8-a28a-bdfccf435101",
       "rows": [
        [
         "cs",
         "0.0"
        ],
        [
         "da",
         "0.0"
        ],
        [
         "de",
         "0.0"
        ],
        [
         "el",
         "0.0"
        ],
        [
         "es",
         "0.0"
        ],
        [
         "fi",
         "0.0"
        ],
        [
         "fr",
         "1.0"
        ],
        [
         "it",
         "0.0"
        ],
        [
         "pl",
         "0.0"
        ],
        [
         "pt",
         "0.0"
        ],
        [
         "sl",
         "0.0"
        ],
        [
         "sv",
         "0.0"
        ]
       ],
       "shape": {
        "columns": 1,
        "rows": 12
       }
      },
      "text/html": [
       "<div>\n",
       "<style scoped>\n",
       "    .dataframe tbody tr th:only-of-type {\n",
       "        vertical-align: middle;\n",
       "    }\n",
       "\n",
       "    .dataframe tbody tr th {\n",
       "        vertical-align: top;\n",
       "    }\n",
       "\n",
       "    .dataframe thead th {\n",
       "        text-align: right;\n",
       "    }\n",
       "</style>\n",
       "<table border=\"1\" class=\"dataframe\">\n",
       "  <thead>\n",
       "    <tr style=\"text-align: right;\">\n",
       "      <th></th>\n",
       "      <th>pred_probs</th>\n",
       "    </tr>\n",
       "  </thead>\n",
       "  <tbody>\n",
       "    <tr>\n",
       "      <th>cs</th>\n",
       "      <td>0.0</td>\n",
       "    </tr>\n",
       "    <tr>\n",
       "      <th>da</th>\n",
       "      <td>0.0</td>\n",
       "    </tr>\n",
       "    <tr>\n",
       "      <th>de</th>\n",
       "      <td>0.0</td>\n",
       "    </tr>\n",
       "    <tr>\n",
       "      <th>el</th>\n",
       "      <td>0.0</td>\n",
       "    </tr>\n",
       "    <tr>\n",
       "      <th>es</th>\n",
       "      <td>0.0</td>\n",
       "    </tr>\n",
       "    <tr>\n",
       "      <th>fi</th>\n",
       "      <td>0.0</td>\n",
       "    </tr>\n",
       "    <tr>\n",
       "      <th>fr</th>\n",
       "      <td>1.0</td>\n",
       "    </tr>\n",
       "    <tr>\n",
       "      <th>it</th>\n",
       "      <td>0.0</td>\n",
       "    </tr>\n",
       "    <tr>\n",
       "      <th>pl</th>\n",
       "      <td>0.0</td>\n",
       "    </tr>\n",
       "    <tr>\n",
       "      <th>pt</th>\n",
       "      <td>0.0</td>\n",
       "    </tr>\n",
       "    <tr>\n",
       "      <th>sl</th>\n",
       "      <td>0.0</td>\n",
       "    </tr>\n",
       "    <tr>\n",
       "      <th>sv</th>\n",
       "      <td>0.0</td>\n",
       "    </tr>\n",
       "  </tbody>\n",
       "</table>\n",
       "</div>"
      ],
      "text/plain": [
       "    pred_probs\n",
       "cs         0.0\n",
       "da         0.0\n",
       "de         0.0\n",
       "el         0.0\n",
       "es         0.0\n",
       "fi         0.0\n",
       "fr         1.0\n",
       "it         0.0\n",
       "pl         0.0\n",
       "pt         0.0\n",
       "sl         0.0\n",
       "sv         0.0"
      ]
     },
     "execution_count": 37,
     "metadata": {},
     "output_type": "execute_result"
    }
   ],
   "source": [
    "text = \"Ça ne marche pas, je suis desolé\" # Francés \n",
    "tokenized_text = tokenizer(text, truncation=True, padding=True, return_tensors='tf')\n",
    "pred_probs = model.predict({\n",
    "    'input_ids': tokenized_text['input_ids'],\n",
    "    'attention_mask': tokenized_text['attention_mask']\n",
    "})\n",
    "\n",
    "df_probs = pd.DataFrame({\"pred_probs\":pred_probs.flatten()}, index=le.classes_)\n",
    "\n",
    "print(\"Idioma detectado:\", le.inverse_transform(pred_probs.argmax(axis=1))[0])\n",
    "df_probs.round(2)"
   ]
  },
  {
   "cell_type": "code",
   "execution_count": 38,
   "id": "12de0a19",
   "metadata": {},
   "outputs": [
    {
     "name": "stdout",
     "output_type": "stream",
     "text": [
      "1/1 [==============================] - 0s 33ms/step\n",
      "Idioma detectado: sv\n"
     ]
    },
    {
     "data": {
      "application/vnd.microsoft.datawrangler.viewer.v0+json": {
       "columns": [
        {
         "name": "index",
         "rawType": "object",
         "type": "string"
        },
        {
         "name": "pred_probs",
         "rawType": "float32",
         "type": "float"
        }
       ],
       "ref": "187f6bbf-ca39-4b58-9c05-3fcb4957bdf2",
       "rows": [
        [
         "cs",
         "0.0"
        ],
        [
         "da",
         "0.0"
        ],
        [
         "de",
         "0.0"
        ],
        [
         "el",
         "0.0"
        ],
        [
         "es",
         "0.0"
        ],
        [
         "fi",
         "0.0"
        ],
        [
         "fr",
         "0.0"
        ],
        [
         "it",
         "0.0"
        ],
        [
         "pl",
         "0.0"
        ],
        [
         "pt",
         "0.0"
        ],
        [
         "sl",
         "0.0"
        ],
        [
         "sv",
         "1.0"
        ]
       ],
       "shape": {
        "columns": 1,
        "rows": 12
       }
      },
      "text/html": [
       "<div>\n",
       "<style scoped>\n",
       "    .dataframe tbody tr th:only-of-type {\n",
       "        vertical-align: middle;\n",
       "    }\n",
       "\n",
       "    .dataframe tbody tr th {\n",
       "        vertical-align: top;\n",
       "    }\n",
       "\n",
       "    .dataframe thead th {\n",
       "        text-align: right;\n",
       "    }\n",
       "</style>\n",
       "<table border=\"1\" class=\"dataframe\">\n",
       "  <thead>\n",
       "    <tr style=\"text-align: right;\">\n",
       "      <th></th>\n",
       "      <th>pred_probs</th>\n",
       "    </tr>\n",
       "  </thead>\n",
       "  <tbody>\n",
       "    <tr>\n",
       "      <th>cs</th>\n",
       "      <td>0.0</td>\n",
       "    </tr>\n",
       "    <tr>\n",
       "      <th>da</th>\n",
       "      <td>0.0</td>\n",
       "    </tr>\n",
       "    <tr>\n",
       "      <th>de</th>\n",
       "      <td>0.0</td>\n",
       "    </tr>\n",
       "    <tr>\n",
       "      <th>el</th>\n",
       "      <td>0.0</td>\n",
       "    </tr>\n",
       "    <tr>\n",
       "      <th>es</th>\n",
       "      <td>0.0</td>\n",
       "    </tr>\n",
       "    <tr>\n",
       "      <th>fi</th>\n",
       "      <td>0.0</td>\n",
       "    </tr>\n",
       "    <tr>\n",
       "      <th>fr</th>\n",
       "      <td>0.0</td>\n",
       "    </tr>\n",
       "    <tr>\n",
       "      <th>it</th>\n",
       "      <td>0.0</td>\n",
       "    </tr>\n",
       "    <tr>\n",
       "      <th>pl</th>\n",
       "      <td>0.0</td>\n",
       "    </tr>\n",
       "    <tr>\n",
       "      <th>pt</th>\n",
       "      <td>0.0</td>\n",
       "    </tr>\n",
       "    <tr>\n",
       "      <th>sl</th>\n",
       "      <td>0.0</td>\n",
       "    </tr>\n",
       "    <tr>\n",
       "      <th>sv</th>\n",
       "      <td>1.0</td>\n",
       "    </tr>\n",
       "  </tbody>\n",
       "</table>\n",
       "</div>"
      ],
      "text/plain": [
       "    pred_probs\n",
       "cs         0.0\n",
       "da         0.0\n",
       "de         0.0\n",
       "el         0.0\n",
       "es         0.0\n",
       "fi         0.0\n",
       "fr         0.0\n",
       "it         0.0\n",
       "pl         0.0\n",
       "pt         0.0\n",
       "sl         0.0\n",
       "sv         1.0"
      ]
     },
     "execution_count": 38,
     "metadata": {},
     "output_type": "execute_result"
    }
   ],
   "source": [
    "text = \"Det fungerar inte.\" # Sueco\n",
    "tokenized_text = tokenizer(text, truncation=True, padding=True, return_tensors='tf')\n",
    "pred_probs = model.predict({\n",
    "    'input_ids': tokenized_text['input_ids'],\n",
    "    'attention_mask': tokenized_text['attention_mask']\n",
    "})\n",
    "\n",
    "df_probs = pd.DataFrame({\"pred_probs\":pred_probs.flatten()}, index=le.classes_)\n",
    "\n",
    "print(\"Idioma detectado:\", le.inverse_transform(pred_probs.argmax(axis=1))[0])\n",
    "df_probs.round(2)"
   ]
  }
 ],
 "metadata": {
  "kernelspec": {
   "display_name": "tf_complete",
   "language": "python",
   "name": "python3"
  },
  "language_info": {
   "codemirror_mode": {
    "name": "ipython",
    "version": 3
   },
   "file_extension": ".py",
   "mimetype": "text/x-python",
   "name": "python",
   "nbconvert_exporter": "python",
   "pygments_lexer": "ipython3",
   "version": "3.9.21"
  }
 },
 "nbformat": 4,
 "nbformat_minor": 5
}
