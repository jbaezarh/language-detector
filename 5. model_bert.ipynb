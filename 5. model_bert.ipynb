{
 "cells": [
  {
   "cell_type": "markdown",
   "id": "2757a917",
   "metadata": {},
   "source": [
    "# Modelo basado en transformers\n",
    "En los modelos considerados anteriormente hemos llegado a alcanzar resultados excelentes. FastText clasifica perfectamente todas las frases con más de 12 palabras y llegamos a obtener tasas de acierto de 99.87% en frases de entre 7 y 12 palabras y del 98.37% en frases de menos de 7 palabras, manteniendo una latencia muy baja. Sin embargo, hemos visto que el modelo comete fallos que un humano no cometería derivados del hecho de que solo se fija en los n-gramas que tiene en su vocabulario, sin considerar palabras completas, y de que carece de mecanismos de atención. En este último enfoque, exploraremos si podemos solucionar estas limitaciones empleando un modelo BERT preentrenado en diversas lenguas. \n",
    "\n",
    "Emplearemos le modelo `distilbert-base-multilingual-cased` por varias razones:\n",
    "- Está preentrenado sobre 104 lenguas, que incluyen todas las de nuestro dataset.\n",
    "- Es más ligero que el modelo BERT original.\n",
    "- Es *case-sensitive*, ya que sabemos que en algunos idiomas tienen un uso particular de las mayúsculas y minúsculas."
   ]
  },
  {
   "cell_type": "code",
   "execution_count": 48,
   "id": "bfe1d1d6",
   "metadata": {},
   "outputs": [],
   "source": [
    "# # Librerías necesarias\n",
    "import os\n",
    "import pandas as pd\n",
    "import numpy as np\n",
    "import tensorflow as tf\n",
    "import joblib\n",
    "from sklearn.preprocessing import LabelEncoder\n",
    "from transformers import TFDistilBertModel, DistilBertTokenizer\n",
    "from livelossplot import PlotLossesKerasTF"
   ]
  },
  {
   "cell_type": "markdown",
   "id": "ba0aeff3",
   "metadata": {},
   "source": [
    "## 1. Preprocesamiento de los datos"
   ]
  },
  {
   "cell_type": "markdown",
   "id": "3f7e3bd5",
   "metadata": {},
   "source": [
    "### Lectura y prepraración de los datos\n",
    "Comenzamos leyendo las particiones de entrenamiento, validación y test que habíamos creado previamente. "
   ]
  },
  {
   "cell_type": "code",
   "execution_count": null,
   "id": "6866226d",
   "metadata": {},
   "outputs": [],
   "source": [
    "# Leemos los datos\n",
    "df_train = pd.read_csv(os.path.join(\"data\",\"raw\",\"train.csv\"))\n",
    "df_val = pd.read_csv(os.path.join(\"data\",\"raw\",\"val.csv\"))\n",
    "df_test = pd.read_csv(os.path.join(\"data\",\"raw\",\"test.csv\"))\n",
    "\n",
    "# Veamos nuestro DataFrame\n",
    "df_train.head(5)\n",
    "\n",
    "# Separamos las variables que usaremos\n",
    "train_texts = df_train[\"text\"]\n",
    "val_texts = df_val[\"text\"]\n",
    "test_texts = df_test[\"text\"]\n",
    "\n",
    "y_train = df_train[\"language\"]\n",
    "y_val = df_val[\"language\"]\n",
    "y_test = df_test[\"language\"]"
   ]
  },
  {
   "cell_type": "markdown",
   "id": "3281ae50",
   "metadata": {},
   "source": [
    "### Tokenización y vectorización"
   ]
  },
  {
   "cell_type": "code",
   "execution_count": null,
   "id": "ca2aa480",
   "metadata": {},
   "outputs": [],
   "source": [
    "# Tokenizar los datasets (se truncan al tamaño de la ventana)\n",
    "tokenizer = DistilBertTokenizer.from_pretrained('distilbert-base-uncased')\n",
    "\n",
    "X_train_encodings = tokenizer(list(train_texts), truncation=True, padding=True, return_tensors='tf')\n",
    "X_val_encodings = tokenizer(list(val_texts), truncation=True, padding=True, return_tensors='tf')\n",
    "X_test_encodings = tokenizer(list(test_texts), truncation=True, padding=True, return_tensors='tf')\n",
    "\n",
    "# Codificamos la variable objetivo\n",
    "le = LabelEncoder()\n",
    "y_train_enc = le.fit_transform(y_train)  \n",
    "y_val_enc = le.transform(y_val)\n",
    "y_test_enc = le.transform(y_test)\n",
    "\n",
    "y_train_tensor = tf.convert_to_tensor(y_train_enc)\n",
    "y_val_tensor = tf.convert_to_tensor(y_val_enc)\n",
    "y_test_tensor = tf.convert_to_tensor(y_test_enc)"
   ]
  },
  {
   "cell_type": "markdown",
   "id": "7b33edd1",
   "metadata": {},
   "source": [
    "### Creación de tf.Dataset\n",
    "Mejora la eficiencia durante el entrenamiento"
   ]
  },
  {
   "cell_type": "code",
   "execution_count": 46,
   "id": "9dcfeb95",
   "metadata": {},
   "outputs": [],
   "source": [
    "# Create tf.data.Dataset\n",
    "train_dataset = tf.data.Dataset.from_tensor_slices((\n",
    "    {\n",
    "        'input_ids': X_train_encodings['input_ids'],\n",
    "        'attention_mask': X_train_encodings['attention_mask']\n",
    "    },\n",
    "    y_train_tensor\n",
    ")).shuffle(len(X_train_encodings)).batch(32).prefetch(tf.data.AUTOTUNE)\n",
    "\n",
    "val_dataset = tf.data.Dataset.from_tensor_slices((\n",
    "    {\n",
    "        'input_ids': X_val_encodings['input_ids'],\n",
    "        'attention_mask': X_val_encodings['attention_mask']\n",
    "    },\n",
    "    y_val_tensor\n",
    ")).batch(32).prefetch(tf.data.AUTOTUNE)\n",
    "\n",
    "test_dataset = tf.data.Dataset.from_tensor_slices((\n",
    "    {\n",
    "        'input_ids': X_test_encodings['input_ids'],\n",
    "        'attention_mask': X_test_encodings['attention_mask']\n",
    "    },\n",
    "    y_test_tensor\n",
    ")).batch(32).prefetch(tf.data.AUTOTUNE)"
   ]
  },
  {
   "cell_type": "markdown",
   "id": "b31ba4b5",
   "metadata": {},
   "source": [
    "## 2. Definición del modelo"
   ]
  },
  {
   "cell_type": "code",
   "execution_count": null,
   "id": "2d46c465",
   "metadata": {},
   "outputs": [],
   "source": [
    "# # Número de idiomas\n",
    "# num_classes = y_train.nunique()\n",
    "\n",
    "# # Tamaño de la representación oculta de DistilBERT\n",
    "# hidden_size = 768  \n",
    "\n",
    "# # Cargamos el modelo preentrenado\n",
    "# distilbert_model = TFDistilBertModel.from_pretrained('distilbert-base-multilingual-cased')\n",
    "# distilbert_model.trainable = False  # Congelamos sus pesos\n",
    "\n",
    "# # Entradas del modelo: IDs de los tokens y máscara de atención\n",
    "# input_ids = tf.keras.Input(shape=(None,), dtype=tf.int32, name='input_ids')\n",
    "# attention_mask = tf.keras.Input(shape=(None,), dtype=tf.int32, name='attention_mask')  # Indica qué tokens son padding\n",
    "\n",
    "# # Función que aplica mean pooling sobre los embeddings de la secuencia\n",
    "# @register_keras_serializable()\n",
    "# def mean_pooling(inputs):\n",
    "#     input_ids, attention_mask = inputs\n",
    "#     outputs = distilbert_model(input_ids, attention_mask=attention_mask, return_dict=True)\n",
    "#     last_hidden_state = outputs.last_hidden_state  # (batch_size, seq_len, hidden_size)\n",
    "\n",
    "#     # Expandimos la máscara de atención para aplicar como máscara\n",
    "#     input_mask_expanded = tf.cast(tf.expand_dims(attention_mask, -1), tf.float32)  # (batch_size, seq_len, 1)\n",
    "\n",
    "#     # Aplicamos la máscara a los embeddings\n",
    "#     sum_embeddings = tf.reduce_sum(last_hidden_state * input_mask_expanded, axis=1)  # (batch_size, hidden_size)\n",
    "#     sum_mask = tf.reduce_sum(input_mask_expanded, axis=1)  # (batch_size, 1)\n",
    "\n",
    "#     # Evitar división por cero\n",
    "#     mean_embeddings = sum_embeddings / tf.maximum(sum_mask, 1e-9)  # (batch_size, hidden_size)\n",
    "\n",
    "#     return mean_embeddings\n",
    "\n",
    "# # Aplicar mean pooling usando una capa Lambda\n",
    "# mean_pooled = tf.keras.layers.Lambda(mean_pooling, output_shape=(hidden_size,))([input_ids, attention_mask])\n",
    "\n",
    "# # Cabeza para hacer la clasificación\n",
    "# x = tf.keras.layers.Dense(256, activation='relu')(mean_pooled)\n",
    "# x = tf.keras.layers.Dropout(0.2)(x)\n",
    "# output = tf.keras.layers.Dense(num_classes, activation='softmax')(x)\n",
    "\n",
    "# # Construcción del modelo final\n",
    "# model = tf.keras.Model(inputs=[input_ids, attention_mask], outputs=output)\n",
    "\n",
    "\n"
   ]
  },
  {
   "cell_type": "code",
   "execution_count": null,
   "id": "a69198ef",
   "metadata": {},
   "outputs": [
    {
     "name": "stderr",
     "output_type": "stream",
     "text": [
      "Some weights of the PyTorch model were not used when initializing the TF 2.0 model TFDistilBertModel: ['vocab_transform.weight', 'vocab_transform.bias', 'vocab_layer_norm.weight', 'vocab_projector.bias', 'vocab_layer_norm.bias']\n",
      "- This IS expected if you are initializing TFDistilBertModel from a PyTorch model trained on another task or with another architecture (e.g. initializing a TFBertForSequenceClassification model from a BertForPreTraining model).\n",
      "- This IS NOT expected if you are initializing TFDistilBertModel from a PyTorch model that you expect to be exactly identical (e.g. initializing a TFBertForSequenceClassification model from a BertForSequenceClassification model).\n",
      "All the weights of TFDistilBertModel were initialized from the PyTorch model.\n",
      "If your task is similar to the task the model of the checkpoint was trained on, you can already use TFDistilBertModel for predictions without further training.\n"
     ]
    }
   ],
   "source": [
    "# Número de idiomas\n",
    "num_classes = y_train.nunique()\n",
    "\n",
    "# Tamaño de la representación oculta de DistilBERT\n",
    "hidden_size = 768  \n",
    "\n",
    "# Cargar modelo DistilBERT preentrenado\n",
    "distilbert_model = TFDistilBertModel.from_pretrained('distilbert-base-multilingual-cased')\n",
    "distilbert_model.trainable = False  # Congelamos sus pesos\n",
    "\n",
    "# Entradas\n",
    "input_ids = tf.keras.Input(shape=(None,), dtype=tf.int32, name='input_ids')\n",
    "attention_mask = tf.keras.Input(shape=(None,), dtype=tf.int32, name='attention_mask')\n",
    "\n",
    "# --- MeanPooling Layer personalizada ---\n",
    "# Dado que estamos el modelo sin hacer finetuning y en distilbert el token [CLS]\n",
    "# no se ha usado durante el entrenamiento, emplearemos la media de los embedding\n",
    "# de las palabras \n",
    "class MeanPooling(tf.keras.layers.Layer):\n",
    "    def call(self, hidden_states, attention_mask):\n",
    "        mask = tf.cast(tf.expand_dims(attention_mask, -1), tf.float32)  # (batch, seq_len, 1)\n",
    "        masked_hidden = hidden_states * mask\n",
    "        sum_hidden = tf.reduce_sum(masked_hidden, axis=1)  # (batch, hidden_size)\n",
    "        sum_mask = tf.reduce_sum(mask, axis=1)  # (batch, 1)\n",
    "        return sum_hidden / tf.maximum(sum_mask, 1e-9)  # evitar división por 0\n",
    "\n",
    "# Extraemos los embeddings de DistilBERT\n",
    "bert_outputs = distilbert_model(input_ids, attention_mask=attention_mask, return_dict=True)\n",
    "sequence_output = bert_outputs.last_hidden_state  # (batch, seq_len, hidden_size)\n",
    "\n",
    "# Aplicamos mean pooling\n",
    "mean_pooled = MeanPooling()(sequence_output, attention_mask)\n",
    "\n",
    "# Clasificación\n",
    "x = tf.keras.layers.Dense(256, activation='relu')(mean_pooled)\n",
    "x = tf.keras.layers.Dropout(0.2)(x)\n",
    "output = tf.keras.layers.Dense(num_classes, activation='softmax')(x)\n",
    "\n",
    "# Modelo final\n",
    "model = tf.keras.Model(inputs=[input_ids, attention_mask], outputs=output)"
   ]
  },
  {
   "cell_type": "code",
   "execution_count": 15,
   "id": "9977475d",
   "metadata": {},
   "outputs": [
    {
     "name": "stdout",
     "output_type": "stream",
     "text": [
      "Model: \"model\"\n",
      "__________________________________________________________________________________________________\n",
      " Layer (type)                Output Shape                 Param #   Connected to                  \n",
      "==================================================================================================\n",
      " input_ids (InputLayer)      [(None, None)]               0         []                            \n",
      "                                                                                                  \n",
      " attention_mask (InputLayer  [(None, None)]               0         []                            \n",
      " )                                                                                                \n",
      "                                                                                                  \n",
      " tf_distil_bert_model (TFDi  TFBaseModelOutput(last_hid   1347340   ['input_ids[0][0]',           \n",
      " stilBertModel)              den_state=(None, None, 768   80         'attention_mask[0][0]']      \n",
      "                             ),                                                                   \n",
      "                              hidden_states=None, atten                                           \n",
      "                             tions=None)                                                          \n",
      "                                                                                                  \n",
      " mean_pooling (MeanPooling)  (None, 768)                  0         ['tf_distil_bert_model[0][0]',\n",
      "                                                                     'attention_mask[0][0]']      \n",
      "                                                                                                  \n",
      " dense (Dense)               (None, 256)                  196864    ['mean_pooling[0][0]']        \n",
      "                                                                                                  \n",
      " dropout_19 (Dropout)        (None, 256)                  0         ['dense[0][0]']               \n",
      "                                                                                                  \n",
      " dense_1 (Dense)             (None, 12)                   3084      ['dropout_19[0][0]']          \n",
      "                                                                                                  \n",
      "==================================================================================================\n",
      "Total params: 134934028 (514.73 MB)\n",
      "Trainable params: 199948 (781.05 KB)\n",
      "Non-trainable params: 134734080 (513.97 MB)\n",
      "__________________________________________________________________________________________________\n"
     ]
    }
   ],
   "source": [
    "# Compilamos el modelo\n",
    "model.compile(\n",
    "    optimizer=tf.keras.optimizers.AdamW(learning_rate=1e-4),\n",
    "    loss='sparse_categorical_crossentropy',\n",
    "    metrics=['accuracy']\n",
    ")\n",
    "\n",
    "# Veámoslo\n",
    "model.summary()"
   ]
  },
  {
   "cell_type": "markdown",
   "id": "c87b9436",
   "metadata": {},
   "source": [
    "## 3. Entrenamiento de la cabeza del modelo\n",
    "Antes de hacer fine-tuning del modelo, vamos a entrenar la cabeza clasificadora."
   ]
  },
  {
   "cell_type": "code",
   "execution_count": 17,
   "id": "b06af8bd",
   "metadata": {},
   "outputs": [
    {
     "data": {
      "image/png": "[encoded data removed]",
      "text/plain": [
       "<Figure size 1200x800 with 2 Axes>"
      ]
     },
     "metadata": {},
     "output_type": "display_data"
    },
    {
     "name": "stdout",
     "output_type": "stream",
     "text": [
      "accuracy\n",
      "\ttraining         \t (min:    0.589, max:    0.886, cur:    0.886)\n",
      "\tvalidation       \t (min:    0.759, max:    0.898, cur:    0.898)\n",
      "Loss\n",
      "\ttraining         \t (min:    0.349, max:    1.431, cur:    0.349)\n",
      "\tvalidation       \t (min:    0.317, max:    0.896, cur:    0.317)\n",
      "1313/1313 [==============================] - 215s 164ms/step - loss: 0.3486 - accuracy: 0.8856 - val_loss: 0.3166 - val_accuracy: 0.8980\n"
     ]
    },
    {
     "data": {
      "text/plain": [
       "<tf_keras.src.callbacks.History at 0x7f65b970e0d0>"
      ]
     },
     "execution_count": 17,
     "metadata": {},
     "output_type": "execute_result"
    }
   ],
   "source": [
    "# Definir el callback de Early Stopping\n",
    "early_stopping = tf.keras.callbacks.EarlyStopping(\n",
    "    monitor='val_loss',    # Monitoriza la pérdida en la validación\n",
    "    patience=2,            # Número de épocas sin mejora antes de detener el entrenamiento\n",
    "    restore_best_weights=True # Restaura los mejores pesos al finalizar\n",
    ")\n",
    "\n",
    "model.fit(\n",
    "    train_dataset,\n",
    "    validation_data=val_dataset,\n",
    "    epochs=20,\n",
    "    callbacks=[PlotLossesKerasTF(),\n",
    "               early_stopping]\n",
    ")"
   ]
  },
  {
   "cell_type": "markdown",
   "id": "4dbf05fe",
   "metadata": {},
   "source": [
    "Continuamos entrenando..."
   ]
  },
  {
   "cell_type": "code",
   "execution_count": 21,
   "id": "bf3386f9",
   "metadata": {},
   "outputs": [
    {
     "data": {
      "image/png": "[encoded data removed]",
      "text/plain": [
       "<Figure size 1200x800 with 2 Axes>"
      ]
     },
     "metadata": {},
     "output_type": "display_data"
    },
    {
     "name": "stdout",
     "output_type": "stream",
     "text": [
      "accuracy\n",
      "\ttraining         \t (min:    0.886, max:    0.909, cur:    0.908)\n",
      "\tvalidation       \t (min:    0.896, max:    0.912, cur:    0.911)\n",
      "Loss\n",
      "\ttraining         \t (min:    0.272, max:    0.341, cur:    0.272)\n",
      "\tvalidation       \t (min:    0.258, max:    0.312, cur:    0.260)\n",
      "1313/1313 [==============================] - 212s 161ms/step - loss: 0.2717 - accuracy: 0.9083 - val_loss: 0.2601 - val_accuracy: 0.9115\n"
     ]
    },
    {
     "data": {
      "text/plain": [
       "<tf_keras.src.callbacks.History at 0x7f65a8890610>"
      ]
     },
     "execution_count": 21,
     "metadata": {},
     "output_type": "execute_result"
    }
   ],
   "source": [
    "model.fit(\n",
    "    train_dataset,\n",
    "    validation_data=val_dataset,\n",
    "    epochs=20,\n",
    "    callbacks=[PlotLossesKerasTF(),\n",
    "               early_stopping]\n",
    ")"
   ]
  },
  {
   "cell_type": "markdown",
   "id": "64e6eeb7",
   "metadata": {},
   "source": [
    "### Guardar el modelo"
   ]
  },
  {
   "cell_type": "code",
   "execution_count": null,
   "id": "4256752c",
   "metadata": {},
   "outputs": [
    {
     "name": "stderr",
     "output_type": "stream",
     "text": [
      "/home/juan/miniconda3/envs/tf_complete/lib/python3.9/site-packages/transformers/generation/tf_utils.py:465: UserWarning: `seed_generator` is deprecated and will be removed in a future version.\n",
      "  warnings.warn(\"`seed_generator` is deprecated and will be removed in a future version.\", UserWarning)\n"
     ]
    },
    {
     "data": {
      "text/plain": [
       "['models/bert/bert_model.joblib']"
      ]
     },
     "metadata": {},
     "output_type": "display_data"
    }
   ],
   "source": [
    "# Creamos el directorio si no existe\n",
    "model_dir = os.path.join(\"models\",\"bert\")\n",
    "os.makedirs(model_dir, exist_ok=True)\n",
    "\n",
    "# Guardamos el modelo entrenado\n",
    "joblib.dump(model, os.path.join(model_dir,'bert_model.joblib'))"
   ]
  },
  {
   "cell_type": "markdown",
   "id": "4ee052fd",
   "metadata": {},
   "source": [
    "## 4. Fine-tuning del encoder \n",
    "Una vez que los pesos de la cabeza ya están más o menos ajustados, vamos a hacer fine-tuning de los dos últimos bloques del transformer (y de la cabeza clasificadora)."
   ]
  },
  {
   "cell_type": "code",
   "execution_count": 38,
   "id": "632d01b9",
   "metadata": {},
   "outputs": [
    {
     "name": "stdout",
     "output_type": "stream",
     "text": [
      "Model: \"model\"\n",
      "__________________________________________________________________________________________________\n",
      " Layer (type)                Output Shape                 Param #   Connected to                  \n",
      "==================================================================================================\n",
      " input_ids (InputLayer)      [(None, None)]               0         []                            \n",
      "                                                                                                  \n",
      " attention_mask (InputLayer  [(None, None)]               0         []                            \n",
      " )                                                                                                \n",
      "                                                                                                  \n",
      " tf_distil_bert_model (TFDi  TFBaseModelOutput(last_hid   1347340   ['input_ids[0][0]',           \n",
      " stilBertModel)              den_state=(None, None, 768   80         'attention_mask[0][0]']      \n",
      "                             ),                                                                   \n",
      "                              hidden_states=None, atten                                           \n",
      "                             tions=None)                                                          \n",
      "                                                                                                  \n",
      " mean_pooling (MeanPooling)  (None, 768)                  0         ['tf_distil_bert_model[0][0]',\n",
      "                                                                     'attention_mask[0][0]']      \n",
      "                                                                                                  \n",
      " dense (Dense)               (None, 256)                  196864    ['mean_pooling[0][0]']        \n",
      "                                                                                                  \n",
      " dropout_19 (Dropout)        (None, 256)                  0         ['dense[0][0]']               \n",
      "                                                                                                  \n",
      " dense_1 (Dense)             (None, 12)                   3084      ['dropout_19[0][0]']          \n",
      "                                                                                                  \n",
      "==================================================================================================\n",
      "Total params: 134934028 (514.73 MB)\n",
      "Trainable params: 106582540 (406.58 MB)\n",
      "Non-trainable params: 28351488 (108.15 MB)\n",
      "__________________________________________________________________________________________________\n"
     ]
    }
   ],
   "source": [
    "# Descongela todo el modelo primero\n",
    "distilbert_model.trainable = True\n",
    "\n",
    "# Congela las primeras 4 capas del encoder\n",
    "# Solo haremos fine-tuning de las 2 últimas\n",
    "for i in range(4):\n",
    "    distilbert_model.distilbert.transformer.layer[i].trainable = False\n",
    "\n",
    "# Veamos que ahora el número de parámetros entrenables ha aumentado\n",
    "model.summary()"
   ]
  },
  {
   "cell_type": "code",
   "execution_count": null,
   "id": "fa073f24",
   "metadata": {},
   "outputs": [],
   "source": [
    "# Compilar el modelo\n",
    "# Empleamos Adam con Weight Decay\n",
    "optimizer = tf.keras.optimizers.AdamW(learning_rate=2e-5)  # Más bajo que el usado para entrenar la cabeza\n",
    "model.compile(optimizer=optimizer, loss='sparse_categorical_crossentropy', metrics=['accuracy'])"
   ]
  },
  {
   "cell_type": "code",
   "execution_count": 43,
   "id": "e4b2ce66",
   "metadata": {},
   "outputs": [
    {
     "data": {
      "image/png": "[encoded data removed]",
      "text/plain": [
       "<Figure size 1200x800 with 2 Axes>"
      ]
     },
     "metadata": {},
     "output_type": "display_data"
    },
    {
     "name": "stdout",
     "output_type": "stream",
     "text": [
      "accuracy\n",
      "\ttraining         \t (min:    0.931, max:    0.994, cur:    0.994)\n",
      "\tvalidation       \t (min:    0.957, max:    0.980, cur:    0.980)\n",
      "Loss\n",
      "\ttraining         \t (min:    0.018, max:    0.199, cur:    0.018)\n",
      "\tvalidation       \t (min:    0.078, max:    0.121, cur:    0.080)\n",
      "1313/1313 [==============================] - 441s 336ms/step - loss: 0.0179 - accuracy: 0.9937 - val_loss: 0.0801 - val_accuracy: 0.9803\n"
     ]
    },
    {
     "data": {
      "text/plain": [
       "<tf_keras.src.callbacks.History at 0x7f65af25f130>"
      ]
     },
     "execution_count": 43,
     "metadata": {},
     "output_type": "execute_result"
    }
   ],
   "source": [
    "# Entrenamos el modelo\n",
    "\n",
    "model.fit(\n",
    "    train_dataset,\n",
    "    validation_data=val_dataset,\n",
    "    epochs=20,\n",
    "    callbacks=[PlotLossesKerasTF(),\n",
    "               early_stopping]\n",
    ")"
   ]
  },
  {
   "cell_type": "markdown",
   "id": "b36b2fdc",
   "metadata": {},
   "source": [
    "Reducir el tamaño de batch durante el entrenamiento, reducir la tasa de aprendizaje, aumentar la tasa de Dropout y aumentar la tasa de regularización podrian  ayudar a combatir el sobreajuste, llegando a alcanzar rendimientos superiores. Igualmente, emplear modelos de mayor tamaño y datasets mayores podrían ayudar también a superar el rendimiento de los demás modelos considerados. Las limitaciones computacionales de este trabajo impiden explorar estas alternativas, por lo que se dejará como trabajo futuro."
   ]
  },
  {
   "cell_type": "markdown",
   "id": "f68d170b",
   "metadata": {},
   "source": [
    "### Guardar el modelo"
   ]
  },
  {
   "cell_type": "code",
   "execution_count": 44,
   "id": "49daf8fa",
   "metadata": {},
   "outputs": [
    {
     "name": "stderr",
     "output_type": "stream",
     "text": [
      "/home/juan/miniconda3/envs/tf_complete/lib/python3.9/site-packages/transformers/generation/tf_utils.py:465: UserWarning: `seed_generator` is deprecated and will be removed in a future version.\n",
      "  warnings.warn(\"`seed_generator` is deprecated and will be removed in a future version.\", UserWarning)\n"
     ]
    },
    {
     "data": {
      "text/plain": [
       "['models/bert/bert_model_fine_tuned.joblib']"
      ]
     },
     "execution_count": 44,
     "metadata": {},
     "output_type": "execute_result"
    }
   ],
   "source": [
    "# Creamos el directorio si no existe\n",
    "model_dir = os.path.join(\"models\",\"bert\")\n",
    "os.makedirs(model_dir, exist_ok=True)\n",
    "\n",
    "# Guardamos el modelo entrenado\n",
    "joblib.dump(model, os.path.join(model_dir,'bert_model_fine_tuned.joblib'))"
   ]
  },
  {
   "cell_type": "markdown",
   "id": "670081ec",
   "metadata": {},
   "source": [
    "## 5. Evaluación"
   ]
  },
  {
   "cell_type": "code",
   "execution_count": 47,
   "id": "94c4ec1a",
   "metadata": {},
   "outputs": [
    {
     "name": "stdout",
     "output_type": "stream",
     "text": [
      "282/282 [==============================] - 80s 279ms/step\n",
      "=== Global Metrics ===\n",
      " accuracy  precision_macro  recall_macro  f1_macro\n",
      " 0.979113         0.979269      0.978972  0.979061\n",
      "\n",
      "=== Per-Class Metrics ===\n",
      "label  precision   recall       f1  support\n",
      "   cs   0.966713 0.965374 0.966043      722\n",
      "   da   0.979784 0.974531 0.977151      746\n",
      "   de   0.983095 0.992126 0.987590      762\n",
      "   el   1.000000 0.998636 0.999317      733\n",
      "   es   0.984419 0.955983 0.969993      727\n",
      "   fi   0.978697 0.994904 0.986734      785\n",
      "   fr   0.965161 0.985507 0.975228      759\n",
      "   it   0.977120 0.979757 0.978437      741\n",
      "   pl   0.995833 0.974185 0.984890      736\n",
      "   pt   0.983806 0.966844 0.975251      754\n",
      "   sl   0.961691 0.982456 0.971963      741\n",
      "   sv   0.974906 0.977358 0.976131      795\n",
      "\n",
      "=== Metrics Per Size ===\n",
      "  size  accuracy  precision_macro  recall_macro  f1_macro\n",
      " large  0.995614         0.995623      0.995672  0.995631\n",
      "medium  0.986857         0.986949      0.986756  0.986823\n",
      " small  0.934122         0.934752      0.933587  0.933624\n",
      "\n",
      "=== Confusion Matrix ===\n",
      "     cs   da   de   el   es   fi   fr   it   pl   pt   sl   sv\n",
      "cs  697    0    0    0    0    3    2    0    2    0   18    0\n",
      "da    0  727    2    0    0    1    4    0    0    0    0   12\n",
      "de    1    0  756    0    0    0    2    1    0    0    1    1\n",
      "el    0    0    0  732    0    0    0    1    0    0    0    0\n",
      "es    0    0    1    0  695    1    7    8    0   12    1    2\n",
      "fi    3    0    1    0    0  781    0    0    0    0    0    0\n",
      "fr    2    1    2    0    1    3  748    0    0    0    1    1\n",
      "it    1    1    1    0    1    1    8  726    0    0    1    1\n",
      "pl    9    0    2    0    1    2    0    0  717    0    5    0\n",
      "pt    2    0    1    0    8    2    3    7    1  729    1    0\n",
      "sl    6    1    0    0    0    2    1    0    0    0  728    3\n",
      "sv    0   12    3    0    0    2    0    0    0    0    1  777\n",
      "Latencia: 80079.88 ms\n"
     ]
    }
   ],
   "source": [
    "import time\n",
    "from utils import classification_metrics_report\n",
    "\n",
    "# Hacemos las predicciones monitoreando la latencia del modelo\n",
    "start = time.time()\n",
    "preds = model.predict(test_dataset)\n",
    "end = time.time()\n",
    "\n",
    "preds_class = preds.argmax(axis = 1)\n",
    "preds_str = le.inverse_transform(preds_class)\n",
    "\n",
    "# Empleamos una función personalizada para ver un report del rendimiento\n",
    "results_fasttext = classification_metrics_report(y_test, preds_str, df_test[\"n_words\"])\n",
    "\n",
    "# Latencia\n",
    "latency_ms = (end - start) * 1000  # milisegundos\n",
    "print(f\"Latencia: {latency_ms:.2f} ms\")"
   ]
  },
  {
   "cell_type": "markdown",
   "id": "08d6ad14",
   "metadata": {},
   "source": [
    "Lo primero y más evidente es que la latencia del modelo es mucho más alta que en los anteriores (40 veces más). También, hay que tener en cuenta que el modelo pesa mucho más y su entrenamiento lleva varias horas. Es necesario decir, que probablemente se podrían llegar a obtener mejores resultados si aplicásemos más regularización para evitar el sobreajuste."
   ]
  },
  {
   "cell_type": "markdown",
   "id": "9aa06c00",
   "metadata": {},
   "source": [
    "## 6. Análisis de errores"
   ]
  },
  {
   "cell_type": "code",
   "execution_count": 50,
   "id": "d91a8aaa",
   "metadata": {},
   "outputs": [],
   "source": [
    "def sorted_dict_probs(pred_probs:np.array):\n",
    "    \n",
    "    return dict(sorted(zip(le.classes_,np.round(pred_probs,3)), key=lambda x: x[1], reverse=True))"
   ]
  },
  {
   "cell_type": "code",
   "execution_count": 51,
   "id": "b6a20a15",
   "metadata": {},
   "outputs": [
    {
     "data": {
      "application/vnd.microsoft.datawrangler.viewer.v0+json": {
       "columns": [
        {
         "name": "index",
         "rawType": "int64",
         "type": "integer"
        },
        {
         "name": "text",
         "rawType": "object",
         "type": "string"
        },
        {
         "name": "language",
         "rawType": "object",
         "type": "string"
        },
        {
         "name": "n_words",
         "rawType": "int64",
         "type": "integer"
        },
        {
         "name": "pred",
         "rawType": "object",
         "type": "string"
        },
        {
         "name": "scores",
         "rawType": "object",
         "type": "unknown"
        }
       ],
       "ref": "d1a7f75a-db8d-4df9-a78b-dc40205ccd59",
       "rows": [
        [
         "46",
         "To je příliš mnoho.\n",
         "cs",
         "4",
         "sl",
         "{'sl': 0.595, 'cs': 0.405, 'da': 0.0, 'de': 0.0, 'el': 0.0, 'es': 0.0, 'fi': 0.0, 'fr': 0.0, 'it': 0.0, 'pl': 0.0, 'pt': 0.0, 'sv': 0.0}"
        ],
        [
         "85",
         "Tusindvis af tons små fisk kasseres hvert år i farvandene.\n",
         "da",
         "10",
         "fi",
         "{'fi': 0.734, 'da': 0.206, 'sv': 0.026, 'sl': 0.015, 'it': 0.014, 'cs': 0.006, 'de': 0.0, 'el': 0.0, 'es': 0.0, 'fr': 0.0, 'pl': 0.0, 'pt': 0.0}"
        ],
        [
         "127",
         "Podes estar calado, moço.\n",
         "pt",
         "4",
         "es",
         "{'es': 0.766, 'da': 0.183, 'pt': 0.042, 'fr': 0.005, 'sv': 0.002, 'cs': 0.001, 'sl': 0.001, 'de': 0.0, 'el': 0.0, 'fi': 0.0, 'it': 0.0, 'pl': 0.0}"
        ],
        [
         "154",
         "Espero que estas formas de discriminación lingüística y tecnológica se superen inmediatamente.\n",
         "es",
         "12",
         "pt",
         "{'pt': 0.995, 'es': 0.005, 'cs': 0.0, 'da': 0.0, 'de': 0.0, 'el': 0.0, 'fi': 0.0, 'fr': 0.0, 'it': 0.0, 'pl': 0.0, 'sl': 0.0, 'sv': 0.0}"
        ],
        [
         "230",
         "Není tu žádná.\n",
         "cs",
         "3",
         "sl",
         "{'sl': 0.557, 'cs': 0.443, 'da': 0.0, 'de': 0.0, 'el': 0.0, 'es': 0.0, 'fi': 0.0, 'fr': 0.0, 'it': 0.0, 'pl': 0.0, 'pt': 0.0, 'sv': 0.0}"
        ],
        [
         "240",
         "B5-0525/2001 från Dupuis m.fl. för TDI-gruppen.\n",
         "sv",
         "7",
         "da",
         "{'da': 0.94, 'fr': 0.057, 'sv': 0.002, 'fi': 0.001, 'cs': 0.0, 'de': 0.0, 'el': 0.0, 'es': 0.0, 'it': 0.0, 'pl': 0.0, 'pt': 0.0, 'sl': 0.0}"
        ],
        [
         "348",
         "Basta pensar no que atingiu o Sudeste Asiático.\n",
         "pt",
         "8",
         "es",
         "{'es': 0.999, 'it': 0.001, 'pt': 0.001, 'cs': 0.0, 'da': 0.0, 'de': 0.0, 'el': 0.0, 'fi': 0.0, 'fr': 0.0, 'pl': 0.0, 'sl': 0.0, 'sv': 0.0}"
        ],
        [
         "394",
         "(La sesión, suspendida a las 13.10 horas, se reanuda a las 15.00 horas)\n",
         "pl",
         "11",
         "es",
         "{'es': 0.821, 'pl': 0.133, 'sl': 0.031, 'it': 0.009, 'fr': 0.006, 'cs': 0.0, 'da': 0.0, 'de': 0.0, 'el': 0.0, 'fi': 0.0, 'pt': 0.0, 'sv': 0.0}"
        ],
        [
         "515",
         "Jednolite rynki stanowią sedno problemu.\n",
         "pl",
         "5",
         "cs",
         "{'cs': 0.476, 'pl': 0.258, 'it': 0.173, 'sl': 0.087, 'pt': 0.004, 'da': 0.001, 'fi': 0.001, 'de': 0.0, 'el': 0.0, 'es': 0.0, 'fr': 0.0, 'sv': 0.0}"
        ],
        [
         "630",
         "Dlatego Parlament bije na alarm.\n",
         "pl",
         "5",
         "sl",
         "{'sl': 0.997, 'pl': 0.003, 'cs': 0.0, 'da': 0.0, 'de': 0.0, 'el': 0.0, 'es': 0.0, 'fi': 0.0, 'fr': 0.0, 'it': 0.0, 'pt': 0.0, 'sv': 0.0}"
        ],
        [
         "705",
         "On peut continuer ainsi, mais on va perdre du temps.\n",
         "fr",
         "10",
         "fi",
         "{'fi': 0.559, 'fr': 0.439, 'pt': 0.002, 'cs': 0.0, 'da': 0.0, 'de': 0.0, 'el': 0.0, 'es': 0.0, 'it': 0.0, 'pl': 0.0, 'sl': 0.0, 'sv': 0.0}"
        ],
        [
         "740",
         "Primero vamos a votar el corrigendum nº 1, para ver si se acepta o no.\n",
         "es",
         "14",
         "pt",
         "{'pt': 0.806, 'es': 0.191, 'cs': 0.003, 'da': 0.0, 'de': 0.0, 'el': 0.0, 'fi': 0.0, 'fr': 0.0, 'it': 0.0, 'pl': 0.0, 'sl': 0.0, 'sv': 0.0}"
        ],
        [
         "769",
         "Meine Antwort wäre Nein.\n",
         "de",
         "4",
         "it",
         "{'it': 0.998, 'de': 0.001, 'cs': 0.0, 'da': 0.0, 'el': 0.0, 'es': 0.0, 'fi': 0.0, 'fr': 0.0, 'pl': 0.0, 'pt': 0.0, 'sl': 0.0, 'sv': 0.0}"
        ],
        [
         "783",
         "Terzo, l'identificazione.\n",
         "it",
         "3",
         "fr",
         "{'fr': 0.785, 'it': 0.215, 'cs': 0.0, 'da': 0.0, 'de': 0.0, 'el': 0.0, 'es': 0.0, 'fi': 0.0, 'pl': 0.0, 'pt': 0.0, 'sl': 0.0, 'sv': 0.0}"
        ],
        [
         "1018",
         "Questions adressées à M. Lamy\n",
         "fr",
         "5",
         "cs",
         "{'cs': 0.682, 'fr': 0.264, 'es': 0.035, 'pt': 0.009, 'sv': 0.005, 'pl': 0.004, 'da': 0.0, 'de': 0.0, 'el': 0.0, 'fi': 0.0, 'it': 0.0, 'sl': 0.0}"
        ],
        [
         "1077",
         "Vi kan muligvis kritisere de nordkoreanske myndigheder, men kun en smule.\n",
         "da",
         "11",
         "sv",
         "{'sv': 0.878, 'da': 0.122, 'cs': 0.0, 'de': 0.0, 'el': 0.0, 'es': 0.0, 'fi': 0.0, 'fr': 0.0, 'it': 0.0, 'pl': 0.0, 'pt': 0.0, 'sl': 0.0}"
        ],
        [
         "1113",
         "Lembro­me perfeitamente.\n",
         "pt",
         "3",
         "it",
         "{'it': 1.0, 'cs': 0.0, 'da': 0.0, 'de': 0.0, 'el': 0.0, 'es': 0.0, 'fi': 0.0, 'fr': 0.0, 'pl': 0.0, 'pt': 0.0, 'sl': 0.0, 'sv': 0.0}"
        ],
        [
         "1177",
         "Em vez disso, diz-nos uns disparates sobre solidariedade.\n",
         "pt",
         "9",
         "it",
         "{'it': 1.0, 'cs': 0.0, 'da': 0.0, 'de': 0.0, 'el': 0.0, 'es': 0.0, 'fi': 0.0, 'fr': 0.0, 'pl': 0.0, 'pt': 0.0, 'sl': 0.0, 'sv': 0.0}"
        ],
        [
         "1229",
         "Komise za sebe tvrdí opak.\n",
         "cs",
         "5",
         "sl",
         "{'sl': 0.948, 'cs': 0.05, 'fi': 0.002, 'da': 0.0, 'de': 0.0, 'el': 0.0, 'es': 0.0, 'fr': 0.0, 'it': 0.0, 'pl': 0.0, 'pt': 0.0, 'sv': 0.0}"
        ],
        [
         "1253",
         "Industriel ensuite.\n",
         "fr",
         "2",
         "de",
         "{'de': 0.771, 'fr': 0.213, 'it': 0.005, 'sl': 0.005, 'es': 0.004, 'cs': 0.002, 'da': 0.0, 'el': 0.0, 'fi': 0.0, 'pl': 0.0, 'pt': 0.0, 'sv': 0.0}"
        ],
        [
         "1258",
         "Section IV - Cour de justice\n",
         "fr",
         "5",
         "da",
         "{'da': 0.965, 'fr': 0.031, 'cs': 0.002, 'sv': 0.001, 'de': 0.0, 'el': 0.0, 'es': 0.0, 'fi': 0.0, 'it': 0.0, 'pl': 0.0, 'pt': 0.0, 'sl': 0.0}"
        ],
        [
         "1317",
         "Intende la Commissione accrescere la quota dei consumi di energia coperta dal nucleare?\n",
         "it",
         "13",
         "fr",
         "{'fr': 0.577, 'it': 0.423, 'cs': 0.0, 'da': 0.0, 'de': 0.0, 'el': 0.0, 'es': 0.0, 'fi': 0.0, 'pl': 0.0, 'pt': 0.0, 'sl': 0.0, 'sv': 0.0}"
        ],
        [
         "1432",
         "ECU 870 millioner.\n",
         "da",
         "2",
         "fr",
         "{'fr': 0.622, 'da': 0.368, 'de': 0.01, 'cs': 0.0, 'el': 0.0, 'es': 0.0, 'fi': 0.0, 'it': 0.0, 'pl': 0.0, 'pt': 0.0, 'sl': 0.0, 'sv': 0.0}"
        ],
        [
         "1442",
         "De modo algum.\n",
         "pt",
         "3",
         "es",
         "{'es': 0.769, 'pt': 0.23, 'it': 0.001, 'cs': 0.0, 'da': 0.0, 'de': 0.0, 'el': 0.0, 'fi': 0.0, 'fr': 0.0, 'pl': 0.0, 'sl': 0.0, 'sv': 0.0}"
        ],
        [
         "1447",
         "Španělsko šlo příkladem.\n",
         "cs",
         "3",
         "sl",
         "{'sl': 0.717, 'it': 0.108, 'da': 0.079, 'pt': 0.07, 'cs': 0.025, 'de': 0.0, 'el': 0.0, 'es': 0.0, 'fi': 0.0, 'fr': 0.0, 'pl': 0.0, 'sv': 0.0}"
        ],
        [
         "1469",
         "Há alguns perigos ocultos.\n",
         "pt",
         "4",
         "es",
         "{'es': 0.873, 'pt': 0.126, 'cs': 0.0, 'da': 0.0, 'de': 0.0, 'el': 0.0, 'fi': 0.0, 'fr': 0.0, 'it': 0.0, 'pl': 0.0, 'sl': 0.0, 'sv': 0.0}"
        ],
        [
         "1529",
         "Sob a liderança de Recep Tayyip Erdogan realizaram-se, na Turquia, importantes reformas e mudanças.\n",
         "pt",
         "15",
         "fi",
         "{'fi': 0.998, 'pt': 0.002, 'cs': 0.0, 'da': 0.0, 'de': 0.0, 'el': 0.0, 'es': 0.0, 'fr': 0.0, 'it': 0.0, 'pl': 0.0, 'sl': 0.0, 'sv': 0.0}"
        ],
        [
         "1596",
         "Realmente, isto vai demasiado longe!\"\n",
         "pt",
         "5",
         "it",
         "{'it': 0.691, 'pt': 0.248, 'pl': 0.032, 'de': 0.017, 'sl': 0.01, 'cs': 0.002, 'da': 0.0, 'el': 0.0, 'es': 0.0, 'fi': 0.0, 'fr': 0.0, 'sv': 0.0}"
        ],
        [
         "1714",
         "Vähennys olisi 20 prosenttia nykytasosta.\n",
         "fi",
         "4",
         "cs",
         "{'cs': 0.761, 'fi': 0.238, 'sl': 0.001, 'da': 0.0, 'de': 0.0, 'el': 0.0, 'es': 0.0, 'fr': 0.0, 'it': 0.0, 'pl': 0.0, 'pt': 0.0, 'sv': 0.0}"
        ],
        [
         "1749",
         "Tres aspectos.\n",
         "es",
         "2",
         "pt",
         "{'pt': 0.746, 'fr': 0.143, 'es': 0.105, 'pl': 0.002, 'cs': 0.001, 'de': 0.001, 'it': 0.001, 'da': 0.0, 'el': 0.0, 'fi': 0.0, 'sl': 0.0, 'sv': 0.0}"
        ],
        [
         "1751",
         "Julgo ter respondido claramente.\n",
         "pt",
         "4",
         "es",
         "{'es': 0.751, 'pt': 0.236, 'da': 0.008, 'it': 0.002, 'fr': 0.001, 'sv': 0.001, 'cs': 0.0, 'de': 0.0, 'el': 0.0, 'fi': 0.0, 'pl': 0.0, 'sl': 0.0}"
        ],
        [
         "1809",
         "Det mangler vi.\n",
         "da",
         "3",
         "sv",
         "{'sv': 0.95, 'da': 0.05, 'cs': 0.0, 'de': 0.0, 'el': 0.0, 'es': 0.0, 'fi': 0.0, 'fr': 0.0, 'it': 0.0, 'pl': 0.0, 'pt': 0.0, 'sl': 0.0}"
        ],
        [
         "1851",
         "Proto se musí těšit stejnému statutu.\n",
         "cs",
         "6",
         "fi",
         "{'fi': 0.606, 'cs': 0.394, 'da': 0.0, 'de': 0.0, 'el': 0.0, 'es': 0.0, 'fr': 0.0, 'it': 0.0, 'pl': 0.0, 'pt': 0.0, 'sl': 0.0, 'sv': 0.0}"
        ],
        [
         "1858",
         "Finalmente, ¿cuáles son sus mayores necesidades con ocasión de estas próximas Cumbres?\n",
         "es",
         "12",
         "pt",
         "{'pt': 0.766, 'es': 0.234, 'cs': 0.0, 'da': 0.0, 'de': 0.0, 'el': 0.0, 'fi': 0.0, 'fr': 0.0, 'it': 0.0, 'pl': 0.0, 'sl': 0.0, 'sv': 0.0}"
        ],
        [
         "1873",
         "La política agrícola común debe reformarse.\n",
         "es",
         "6",
         "it",
         "{'it': 0.946, 'es': 0.053, 'cs': 0.0, 'da': 0.0, 'de': 0.0, 'el': 0.0, 'fi': 0.0, 'fr': 0.0, 'pl': 0.0, 'pt': 0.0, 'sl': 0.0, 'sv': 0.0}"
        ],
        [
         "1900",
         "Vilka prioriteringar ska vi ha?\n",
         "sv",
         "5",
         "da",
         "{'da': 0.813, 'sv': 0.187, 'cs': 0.0, 'de': 0.0, 'el': 0.0, 'es': 0.0, 'fi': 0.0, 'fr': 0.0, 'it': 0.0, 'pl': 0.0, 'pt': 0.0, 'sl': 0.0}"
        ],
        [
         "1924",
         "Vendar pa 22 966 otrok ima vsaj enega starša.\n",
         "sl",
         "7",
         "sv",
         "{'sv': 0.875, 'sl': 0.121, 'da': 0.003, 'cs': 0.0, 'de': 0.0, 'el': 0.0, 'es': 0.0, 'fi': 0.0, 'fr': 0.0, 'it': 0.0, 'pl': 0.0, 'pt': 0.0}"
        ],
        [
         "1954",
         "Wizy krótkoterminowe WE/Bośnia i Hercegowina\n",
         "pl",
         "6",
         "de",
         "{'de': 0.93, 'da': 0.042, 'pl': 0.027, 'cs': 0.0, 'el': 0.0, 'es': 0.0, 'fi': 0.0, 'fr': 0.0, 'it': 0.0, 'pt': 0.0, 'sl': 0.0, 'sv': 0.0}"
        ],
        [
         "1995",
         "Naturligtvis erbjuder de olympiska spelen politiska valmöjligheter.\n",
         "sv",
         "7",
         "fi",
         "{'fi': 0.643, 'sl': 0.353, 'sv': 0.004, 'cs': 0.0, 'da': 0.0, 'de': 0.0, 'el': 0.0, 'es': 0.0, 'fr': 0.0, 'it': 0.0, 'pl': 0.0, 'pt': 0.0}"
        ],
        [
         "2001",
         "Neobstojí však, je-li posuzováno z hlediska dokonalosti.\n",
         "cs",
         "8",
         "sl",
         "{'sl': 0.756, 'cs': 0.244, 'da': 0.0, 'de': 0.0, 'el': 0.0, 'es': 0.0, 'fi': 0.0, 'fr': 0.0, 'it': 0.0, 'pl': 0.0, 'pt': 0.0, 'sv': 0.0}"
        ],
        [
         "2018",
         "Tienen que ir a grandes saltos.\n",
         "es",
         "6",
         "pt",
         "{'pt': 0.62, 'es': 0.377, 'fr': 0.003, 'cs': 0.0, 'da': 0.0, 'de': 0.0, 'el': 0.0, 'fi': 0.0, 'it': 0.0, 'pl': 0.0, 'sl': 0.0, 'sv': 0.0}"
        ],
        [
         "2034",
         "Hr. Healey havde en regel, som han kaldte reglen om huller.\n",
         "da",
         "11",
         "de",
         "{'de': 0.524, 'da': 0.475, 'sv': 0.001, 'cs': 0.0, 'el': 0.0, 'es': 0.0, 'fi': 0.0, 'fr': 0.0, 'it': 0.0, 'pl': 0.0, 'pt': 0.0, 'sl': 0.0}"
        ],
        [
         "2112",
         "(The sitting closed at 16.35)\n",
         "sl",
         "4",
         "sv",
         "{'sv': 0.931, 'da': 0.051, 'de': 0.007, 'sl': 0.004, 'cs': 0.003, 'fr': 0.002, 'pl': 0.001, 'pt': 0.001, 'el': 0.0, 'es': 0.0, 'fi': 0.0, 'it': 0.0}"
        ],
        [
         "2259",
         "O rublo afundou-se. O governo desvalorizou-o, congelou a sua dívida externa e interna.\n",
         "pt",
         "15",
         "fi",
         "{'fi': 0.571, 'pt': 0.429, 'cs': 0.001, 'da': 0.0, 'de': 0.0, 'el': 0.0, 'es': 0.0, 'fr': 0.0, 'it': 0.0, 'pl': 0.0, 'sl': 0.0, 'sv': 0.0}"
        ],
        [
         "2345",
         "Så hvordan ser resultatet så ud?\n",
         "da",
         "6",
         "sv",
         "{'sv': 0.561, 'da': 0.341, 'fr': 0.084, 'pl': 0.014, 'cs': 0.001, 'de': 0.0, 'el': 0.0, 'es': 0.0, 'fi': 0.0, 'it': 0.0, 'pt': 0.0, 'sl': 0.0}"
        ],
        [
         "2352",
         "Porządek prac\n",
         "pl",
         "2",
         "sl",
         "{'sl': 0.839, 'pt': 0.075, 'pl': 0.059, 'es': 0.022, 'it': 0.004, 'cs': 0.001, 'da': 0.0, 'de': 0.0, 'el': 0.0, 'fi': 0.0, 'fr': 0.0, 'sv': 0.0}"
        ],
        [
         "2375",
         "Citat slut.\n",
         "da",
         "2",
         "fr",
         "{'fr': 0.656, 'it': 0.308, 'cs': 0.029, 'sv': 0.002, 'da': 0.001, 'de': 0.001, 'fi': 0.001, 'pt': 0.001, 'sl': 0.001, 'el': 0.0, 'es': 0.0, 'pl': 0.0}"
        ],
        [
         "2408",
         "É infinitamente perigoso e preocupante para o século que se inicia.\n",
         "pt",
         "11",
         "it",
         "{'it': 0.755, 'pt': 0.245, 'cs': 0.0, 'da': 0.0, 'de': 0.0, 'el': 0.0, 'es': 0.0, 'fi': 0.0, 'fr': 0.0, 'pl': 0.0, 'sl': 0.0, 'sv': 0.0}"
        ],
        [
         "2455",
         "Cometer tres o más indica estupidez, locura o ganas deliberadas de ocasionar problemas.\n",
         "es",
         "13",
         "pt",
         "{'pt': 0.968, 'es': 0.032, 'cs': 0.0, 'da': 0.0, 'de': 0.0, 'el': 0.0, 'fi': 0.0, 'fr': 0.0, 'it': 0.0, 'pl': 0.0, 'sl': 0.0, 'sv': 0.0}"
        ],
        [
         "2464",
         "Observatório Europeu do Audiovisual\n",
         "pt",
         "4",
         "cs",
         "{'cs': 1.0, 'da': 0.0, 'de': 0.0, 'el': 0.0, 'es': 0.0, 'fi': 0.0, 'fr': 0.0, 'it': 0.0, 'pl': 0.0, 'pt': 0.0, 'sl': 0.0, 'sv': 0.0}"
        ]
       ],
       "shape": {
        "columns": 5,
        "rows": 188
       }
      },
      "text/html": [
       "<div>\n",
       "<style scoped>\n",
       "    .dataframe tbody tr th:only-of-type {\n",
       "        vertical-align: middle;\n",
       "    }\n",
       "\n",
       "    .dataframe tbody tr th {\n",
       "        vertical-align: top;\n",
       "    }\n",
       "\n",
       "    .dataframe thead th {\n",
       "        text-align: right;\n",
       "    }\n",
       "</style>\n",
       "<table border=\"1\" class=\"dataframe\">\n",
       "  <thead>\n",
       "    <tr style=\"text-align: right;\">\n",
       "      <th></th>\n",
       "      <th>text</th>\n",
       "      <th>language</th>\n",
       "      <th>n_words</th>\n",
       "      <th>pred</th>\n",
       "      <th>scores</th>\n",
       "    </tr>\n",
       "  </thead>\n",
       "  <tbody>\n",
       "    <tr>\n",
       "      <th>46</th>\n",
       "      <td>To je příliš mnoho.\\n</td>\n",
       "      <td>cs</td>\n",
       "      <td>4</td>\n",
       "      <td>sl</td>\n",
       "      <td>{'sl': 0.595, 'cs': 0.405, 'da': 0.0, 'de': 0....</td>\n",
       "    </tr>\n",
       "    <tr>\n",
       "      <th>85</th>\n",
       "      <td>Tusindvis af tons små fisk kasseres hvert år i...</td>\n",
       "      <td>da</td>\n",
       "      <td>10</td>\n",
       "      <td>fi</td>\n",
       "      <td>{'fi': 0.734, 'da': 0.206, 'sv': 0.026, 'sl': ...</td>\n",
       "    </tr>\n",
       "    <tr>\n",
       "      <th>127</th>\n",
       "      <td>Podes estar calado, moço.\\n</td>\n",
       "      <td>pt</td>\n",
       "      <td>4</td>\n",
       "      <td>es</td>\n",
       "      <td>{'es': 0.766, 'da': 0.183, 'pt': 0.042, 'fr': ...</td>\n",
       "    </tr>\n",
       "    <tr>\n",
       "      <th>154</th>\n",
       "      <td>Espero que estas formas de discriminación ling...</td>\n",
       "      <td>es</td>\n",
       "      <td>12</td>\n",
       "      <td>pt</td>\n",
       "      <td>{'pt': 0.995, 'es': 0.005, 'cs': 0.0, 'da': 0....</td>\n",
       "    </tr>\n",
       "    <tr>\n",
       "      <th>230</th>\n",
       "      <td>Není tu žádná.\\n</td>\n",
       "      <td>cs</td>\n",
       "      <td>3</td>\n",
       "      <td>sl</td>\n",
       "      <td>{'sl': 0.557, 'cs': 0.443, 'da': 0.0, 'de': 0....</td>\n",
       "    </tr>\n",
       "    <tr>\n",
       "      <th>...</th>\n",
       "      <td>...</td>\n",
       "      <td>...</td>\n",
       "      <td>...</td>\n",
       "      <td>...</td>\n",
       "      <td>...</td>\n",
       "    </tr>\n",
       "    <tr>\n",
       "      <th>8845</th>\n",
       "      <td>La Commissione rimarrà silente?\\n</td>\n",
       "      <td>it</td>\n",
       "      <td>4</td>\n",
       "      <td>fr</td>\n",
       "      <td>{'fr': 0.999, 'it': 0.001, 'cs': 0.0, 'da': 0....</td>\n",
       "    </tr>\n",
       "    <tr>\n",
       "      <th>8864</th>\n",
       "      <td>Haverá capítulos separados.\\n</td>\n",
       "      <td>pt</td>\n",
       "      <td>3</td>\n",
       "      <td>fr</td>\n",
       "      <td>{'fr': 0.876, 'pt': 0.088, 'cs': 0.031, 'pl': ...</td>\n",
       "    </tr>\n",
       "    <tr>\n",
       "      <th>8867</th>\n",
       "      <td>Toiseksi, pk-yritysten rahoittaminen.\\n</td>\n",
       "      <td>fi</td>\n",
       "      <td>4</td>\n",
       "      <td>cs</td>\n",
       "      <td>{'cs': 0.668, 'fi': 0.222, 'sl': 0.11, 'da': 0...</td>\n",
       "    </tr>\n",
       "    <tr>\n",
       "      <th>8954</th>\n",
       "      <td>A catástrofe no Reino Unido é já enorme.\\n</td>\n",
       "      <td>pt</td>\n",
       "      <td>8</td>\n",
       "      <td>cs</td>\n",
       "      <td>{'cs': 0.587, 'es': 0.345, 'pt': 0.05, 'fr': 0...</td>\n",
       "    </tr>\n",
       "    <tr>\n",
       "      <th>8992</th>\n",
       "      <td>Det beklager vi.\\n</td>\n",
       "      <td>da</td>\n",
       "      <td>3</td>\n",
       "      <td>sv</td>\n",
       "      <td>{'sv': 0.865, 'da': 0.135, 'cs': 0.0, 'de': 0....</td>\n",
       "    </tr>\n",
       "  </tbody>\n",
       "</table>\n",
       "<p>188 rows × 5 columns</p>\n",
       "</div>"
      ],
      "text/plain": [
       "                                                   text language  n_words  \\\n",
       "46                                To je příliš mnoho.\\n       cs        4   \n",
       "85    Tusindvis af tons små fisk kasseres hvert år i...       da       10   \n",
       "127                         Podes estar calado, moço.\\n       pt        4   \n",
       "154   Espero que estas formas de discriminación ling...       es       12   \n",
       "230                                    Není tu žádná.\\n       cs        3   \n",
       "...                                                 ...      ...      ...   \n",
       "8845                  La Commissione rimarrà silente?\\n       it        4   \n",
       "8864                      Haverá capítulos separados.\\n       pt        3   \n",
       "8867            Toiseksi, pk-yritysten rahoittaminen.\\n       fi        4   \n",
       "8954         A catástrofe no Reino Unido é já enorme.\\n       pt        8   \n",
       "8992                                 Det beklager vi.\\n       da        3   \n",
       "\n",
       "     pred                                             scores  \n",
       "46     sl  {'sl': 0.595, 'cs': 0.405, 'da': 0.0, 'de': 0....  \n",
       "85     fi  {'fi': 0.734, 'da': 0.206, 'sv': 0.026, 'sl': ...  \n",
       "127    es  {'es': 0.766, 'da': 0.183, 'pt': 0.042, 'fr': ...  \n",
       "154    pt  {'pt': 0.995, 'es': 0.005, 'cs': 0.0, 'da': 0....  \n",
       "230    sl  {'sl': 0.557, 'cs': 0.443, 'da': 0.0, 'de': 0....  \n",
       "...   ...                                                ...  \n",
       "8845   fr  {'fr': 0.999, 'it': 0.001, 'cs': 0.0, 'da': 0....  \n",
       "8864   fr  {'fr': 0.876, 'pt': 0.088, 'cs': 0.031, 'pl': ...  \n",
       "8867   cs  {'cs': 0.668, 'fi': 0.222, 'sl': 0.11, 'da': 0...  \n",
       "8954   cs  {'cs': 0.587, 'es': 0.345, 'pt': 0.05, 'fr': 0...  \n",
       "8992   sv  {'sv': 0.865, 'da': 0.135, 'cs': 0.0, 'de': 0....  \n",
       "\n",
       "[188 rows x 5 columns]"
      ]
     },
     "execution_count": 51,
     "metadata": {},
     "output_type": "execute_result"
    }
   ],
   "source": [
    "# Nos centramos en los errores\n",
    "df_errors = df_test[preds_class!=y_test_enc].copy()\n",
    "\n",
    "# Añadimos la clase predicha\n",
    "df_errors.loc[:,\"pred\"] = [pred for pred, true in zip(preds_str, y_test) if pred != true]\n",
    "\n",
    "# Añadimos las probabilidades\n",
    "df_errors.loc[:,\"scores\"] = [sorted_dict_probs(preds[i]) for i in range(len(test_texts)) if preds_str[i]!=y_test[i]]\n",
    "\n",
    "# Veamos los errores\n",
    "df_errors"
   ]
  },
  {
   "cell_type": "markdown",
   "id": "bbc90eee",
   "metadata": {},
   "source": [
    "El modelo tal cual está no está, ni mucho menos a la altura de los anteriores. Necesita más entrenamiento y para eso hay que mitigar el sobreajuste. No tiene sentido evaluar los errores que produce porque aún son demasiados"
   ]
  },
  {
   "cell_type": "markdown",
   "id": "cdc3cd69",
   "metadata": {},
   "source": [
    "### Pruebas\n",
    "Hacemos algunas pruebas para ver el funcionamiento del modelo"
   ]
  },
  {
   "cell_type": "code",
   "execution_count": 56,
   "id": "7e57860f",
   "metadata": {},
   "outputs": [
    {
     "name": "stdout",
     "output_type": "stream",
     "text": [
      "1/1 [==============================] - 1s 847ms/step\n",
      "Idioma detectado: fr\n"
     ]
    },
    {
     "data": {
      "application/vnd.microsoft.datawrangler.viewer.v0+json": {
       "columns": [
        {
         "name": "index",
         "rawType": "object",
         "type": "string"
        },
        {
         "name": "pred_probs",
         "rawType": "float32",
         "type": "float"
        }
       ],
       "ref": "ed6a971b-679e-46ba-b813-aee8507576a3",
       "rows": [
        [
         "cs",
         "0.01"
        ],
        [
         "da",
         "0.0"
        ],
        [
         "de",
         "0.0"
        ],
        [
         "el",
         "0.0"
        ],
        [
         "es",
         "0.21"
        ],
        [
         "fi",
         "0.01"
        ],
        [
         "fr",
         "0.61"
        ],
        [
         "it",
         "0.01"
        ],
        [
         "pl",
         "0.01"
        ],
        [
         "pt",
         "0.04"
        ],
        [
         "sl",
         "0.11"
        ],
        [
         "sv",
         "0.0"
        ]
       ],
       "shape": {
        "columns": 1,
        "rows": 12
       }
      },
      "text/html": [
       "<div>\n",
       "<style scoped>\n",
       "    .dataframe tbody tr th:only-of-type {\n",
       "        vertical-align: middle;\n",
       "    }\n",
       "\n",
       "    .dataframe tbody tr th {\n",
       "        vertical-align: top;\n",
       "    }\n",
       "\n",
       "    .dataframe thead th {\n",
       "        text-align: right;\n",
       "    }\n",
       "</style>\n",
       "<table border=\"1\" class=\"dataframe\">\n",
       "  <thead>\n",
       "    <tr style=\"text-align: right;\">\n",
       "      <th></th>\n",
       "      <th>pred_probs</th>\n",
       "    </tr>\n",
       "  </thead>\n",
       "  <tbody>\n",
       "    <tr>\n",
       "      <th>cs</th>\n",
       "      <td>0.01</td>\n",
       "    </tr>\n",
       "    <tr>\n",
       "      <th>da</th>\n",
       "      <td>0.00</td>\n",
       "    </tr>\n",
       "    <tr>\n",
       "      <th>de</th>\n",
       "      <td>0.00</td>\n",
       "    </tr>\n",
       "    <tr>\n",
       "      <th>el</th>\n",
       "      <td>0.00</td>\n",
       "    </tr>\n",
       "    <tr>\n",
       "      <th>es</th>\n",
       "      <td>0.21</td>\n",
       "    </tr>\n",
       "    <tr>\n",
       "      <th>fi</th>\n",
       "      <td>0.01</td>\n",
       "    </tr>\n",
       "    <tr>\n",
       "      <th>fr</th>\n",
       "      <td>0.61</td>\n",
       "    </tr>\n",
       "    <tr>\n",
       "      <th>it</th>\n",
       "      <td>0.01</td>\n",
       "    </tr>\n",
       "    <tr>\n",
       "      <th>pl</th>\n",
       "      <td>0.01</td>\n",
       "    </tr>\n",
       "    <tr>\n",
       "      <th>pt</th>\n",
       "      <td>0.04</td>\n",
       "    </tr>\n",
       "    <tr>\n",
       "      <th>sl</th>\n",
       "      <td>0.11</td>\n",
       "    </tr>\n",
       "    <tr>\n",
       "      <th>sv</th>\n",
       "      <td>0.00</td>\n",
       "    </tr>\n",
       "  </tbody>\n",
       "</table>\n",
       "</div>"
      ],
      "text/plain": [
       "    pred_probs\n",
       "cs        0.01\n",
       "da        0.00\n",
       "de        0.00\n",
       "el        0.00\n",
       "es        0.21\n",
       "fi        0.01\n",
       "fr        0.61\n",
       "it        0.01\n",
       "pl        0.01\n",
       "pt        0.04\n",
       "sl        0.11\n",
       "sv        0.00"
      ]
     },
     "execution_count": 56,
     "metadata": {},
     "output_type": "execute_result"
    }
   ],
   "source": [
    "text= \"Hola buenos días\" # Español\n",
    "tokenized_text = tokenizer(text, truncation=True, padding=True, return_tensors='tf')\n",
    "pred_probs = model.predict({\n",
    "    'input_ids': tokenized_text['input_ids'],\n",
    "    'attention_mask': tokenized_text['attention_mask']\n",
    "})\n",
    "\n",
    "df_probs = pd.DataFrame({\"pred_probs\":pred_probs.flatten()}, index=le.classes_)\n",
    "\n",
    "print(\"Idioma detectado:\", le.inverse_transform(pred_probs.argmax(axis=1))[0])\n",
    "df_probs.round(2)"
   ]
  },
  {
   "cell_type": "code",
   "execution_count": 57,
   "id": "fa9e71b4",
   "metadata": {},
   "outputs": [
    {
     "name": "stdout",
     "output_type": "stream",
     "text": [
      "1/1 [==============================] - 1s 802ms/step\n",
      "Idioma detectado: sl\n"
     ]
    },
    {
     "data": {
      "application/vnd.microsoft.datawrangler.viewer.v0+json": {
       "columns": [
        {
         "name": "index",
         "rawType": "object",
         "type": "string"
        },
        {
         "name": "pred_probs",
         "rawType": "float32",
         "type": "float"
        }
       ],
       "ref": "3d9db5ae-0c92-4610-8d00-caf5dd259eee",
       "rows": [
        [
         "cs",
         "0.01"
        ],
        [
         "da",
         "0.0"
        ],
        [
         "de",
         "0.0"
        ],
        [
         "el",
         "0.0"
        ],
        [
         "es",
         "0.09"
        ],
        [
         "fi",
         "0.0"
        ],
        [
         "fr",
         "0.01"
        ],
        [
         "it",
         "0.02"
        ],
        [
         "pl",
         "0.3"
        ],
        [
         "pt",
         "0.09"
        ],
        [
         "sl",
         "0.48"
        ],
        [
         "sv",
         "0.0"
        ]
       ],
       "shape": {
        "columns": 1,
        "rows": 12
       }
      },
      "text/html": [
       "<div>\n",
       "<style scoped>\n",
       "    .dataframe tbody tr th:only-of-type {\n",
       "        vertical-align: middle;\n",
       "    }\n",
       "\n",
       "    .dataframe tbody tr th {\n",
       "        vertical-align: top;\n",
       "    }\n",
       "\n",
       "    .dataframe thead th {\n",
       "        text-align: right;\n",
       "    }\n",
       "</style>\n",
       "<table border=\"1\" class=\"dataframe\">\n",
       "  <thead>\n",
       "    <tr style=\"text-align: right;\">\n",
       "      <th></th>\n",
       "      <th>pred_probs</th>\n",
       "    </tr>\n",
       "  </thead>\n",
       "  <tbody>\n",
       "    <tr>\n",
       "      <th>cs</th>\n",
       "      <td>0.01</td>\n",
       "    </tr>\n",
       "    <tr>\n",
       "      <th>da</th>\n",
       "      <td>0.00</td>\n",
       "    </tr>\n",
       "    <tr>\n",
       "      <th>de</th>\n",
       "      <td>0.00</td>\n",
       "    </tr>\n",
       "    <tr>\n",
       "      <th>el</th>\n",
       "      <td>0.00</td>\n",
       "    </tr>\n",
       "    <tr>\n",
       "      <th>es</th>\n",
       "      <td>0.09</td>\n",
       "    </tr>\n",
       "    <tr>\n",
       "      <th>fi</th>\n",
       "      <td>0.00</td>\n",
       "    </tr>\n",
       "    <tr>\n",
       "      <th>fr</th>\n",
       "      <td>0.01</td>\n",
       "    </tr>\n",
       "    <tr>\n",
       "      <th>it</th>\n",
       "      <td>0.02</td>\n",
       "    </tr>\n",
       "    <tr>\n",
       "      <th>pl</th>\n",
       "      <td>0.30</td>\n",
       "    </tr>\n",
       "    <tr>\n",
       "      <th>pt</th>\n",
       "      <td>0.09</td>\n",
       "    </tr>\n",
       "    <tr>\n",
       "      <th>sl</th>\n",
       "      <td>0.48</td>\n",
       "    </tr>\n",
       "    <tr>\n",
       "      <th>sv</th>\n",
       "      <td>0.00</td>\n",
       "    </tr>\n",
       "  </tbody>\n",
       "</table>\n",
       "</div>"
      ],
      "text/plain": [
       "    pred_probs\n",
       "cs        0.01\n",
       "da        0.00\n",
       "de        0.00\n",
       "el        0.00\n",
       "es        0.09\n",
       "fi        0.00\n",
       "fr        0.01\n",
       "it        0.02\n",
       "pl        0.30\n",
       "pt        0.09\n",
       "sl        0.48\n",
       "sv        0.00"
      ]
     },
     "execution_count": 57,
     "metadata": {},
     "output_type": "execute_result"
    }
   ],
   "source": [
    "text= \"Cómo\" # Español\n",
    "tokenized_text = tokenizer(text, truncation=True, padding=True, return_tensors='tf')\n",
    "pred_probs = model.predict({\n",
    "    'input_ids': tokenized_text['input_ids'],\n",
    "    'attention_mask': tokenized_text['attention_mask']\n",
    "})\n",
    "\n",
    "df_probs = pd.DataFrame({\"pred_probs\":pred_probs.flatten()}, index=le.classes_)\n",
    "\n",
    "print(\"Idioma detectado:\", le.inverse_transform(pred_probs.argmax(axis=1))[0])\n",
    "df_probs.round(2)"
   ]
  },
  {
   "cell_type": "code",
   "execution_count": 58,
   "id": "72c47af1",
   "metadata": {},
   "outputs": [
    {
     "name": "stdout",
     "output_type": "stream",
     "text": [
      "1/1 [==============================] - 0s 59ms/step\n",
      "Idioma detectado: de\n"
     ]
    },
    {
     "data": {
      "application/vnd.microsoft.datawrangler.viewer.v0+json": {
       "columns": [
        {
         "name": "index",
         "rawType": "object",
         "type": "string"
        },
        {
         "name": "pred_probs",
         "rawType": "float32",
         "type": "float"
        }
       ],
       "ref": "c554e921-3087-4709-a03e-c7e93296f75b",
       "rows": [
        [
         "cs",
         "0.01"
        ],
        [
         "da",
         "0.0"
        ],
        [
         "de",
         "0.98"
        ],
        [
         "el",
         "0.0"
        ],
        [
         "es",
         "0.0"
        ],
        [
         "fi",
         "0.0"
        ],
        [
         "fr",
         "0.0"
        ],
        [
         "it",
         "0.0"
        ],
        [
         "pl",
         "0.0"
        ],
        [
         "pt",
         "0.0"
        ],
        [
         "sl",
         "0.0"
        ],
        [
         "sv",
         "0.0"
        ]
       ],
       "shape": {
        "columns": 1,
        "rows": 12
       }
      },
      "text/html": [
       "<div>\n",
       "<style scoped>\n",
       "    .dataframe tbody tr th:only-of-type {\n",
       "        vertical-align: middle;\n",
       "    }\n",
       "\n",
       "    .dataframe tbody tr th {\n",
       "        vertical-align: top;\n",
       "    }\n",
       "\n",
       "    .dataframe thead th {\n",
       "        text-align: right;\n",
       "    }\n",
       "</style>\n",
       "<table border=\"1\" class=\"dataframe\">\n",
       "  <thead>\n",
       "    <tr style=\"text-align: right;\">\n",
       "      <th></th>\n",
       "      <th>pred_probs</th>\n",
       "    </tr>\n",
       "  </thead>\n",
       "  <tbody>\n",
       "    <tr>\n",
       "      <th>cs</th>\n",
       "      <td>0.01</td>\n",
       "    </tr>\n",
       "    <tr>\n",
       "      <th>da</th>\n",
       "      <td>0.00</td>\n",
       "    </tr>\n",
       "    <tr>\n",
       "      <th>de</th>\n",
       "      <td>0.98</td>\n",
       "    </tr>\n",
       "    <tr>\n",
       "      <th>el</th>\n",
       "      <td>0.00</td>\n",
       "    </tr>\n",
       "    <tr>\n",
       "      <th>es</th>\n",
       "      <td>0.00</td>\n",
       "    </tr>\n",
       "    <tr>\n",
       "      <th>fi</th>\n",
       "      <td>0.00</td>\n",
       "    </tr>\n",
       "    <tr>\n",
       "      <th>fr</th>\n",
       "      <td>0.00</td>\n",
       "    </tr>\n",
       "    <tr>\n",
       "      <th>it</th>\n",
       "      <td>0.00</td>\n",
       "    </tr>\n",
       "    <tr>\n",
       "      <th>pl</th>\n",
       "      <td>0.00</td>\n",
       "    </tr>\n",
       "    <tr>\n",
       "      <th>pt</th>\n",
       "      <td>0.00</td>\n",
       "    </tr>\n",
       "    <tr>\n",
       "      <th>sl</th>\n",
       "      <td>0.00</td>\n",
       "    </tr>\n",
       "    <tr>\n",
       "      <th>sv</th>\n",
       "      <td>0.00</td>\n",
       "    </tr>\n",
       "  </tbody>\n",
       "</table>\n",
       "</div>"
      ],
      "text/plain": [
       "    pred_probs\n",
       "cs        0.01\n",
       "da        0.00\n",
       "de        0.98\n",
       "el        0.00\n",
       "es        0.00\n",
       "fi        0.00\n",
       "fr        0.00\n",
       "it        0.00\n",
       "pl        0.00\n",
       "pt        0.00\n",
       "sl        0.00\n",
       "sv        0.00"
      ]
     },
     "execution_count": 58,
     "metadata": {},
     "output_type": "execute_result"
    }
   ],
   "source": [
    "text = \"Nicht\" # Alemán \n",
    "tokenized_text = tokenizer(text, truncation=True, padding=True, return_tensors='tf')\n",
    "pred_probs = model.predict({\n",
    "    'input_ids': tokenized_text['input_ids'],\n",
    "    'attention_mask': tokenized_text['attention_mask']\n",
    "})\n",
    "\n",
    "df_probs = pd.DataFrame({\"pred_probs\":pred_probs.flatten()}, index=le.classes_)\n",
    "\n",
    "print(\"Idioma detectado:\", le.inverse_transform(pred_probs.argmax(axis=1))[0])\n",
    "df_probs.round(2)"
   ]
  },
  {
   "cell_type": "code",
   "execution_count": 59,
   "id": "f09be658",
   "metadata": {},
   "outputs": [
    {
     "name": "stdout",
     "output_type": "stream",
     "text": [
      "1/1 [==============================] - 0s 59ms/step\n",
      "Idioma detectado: fr\n"
     ]
    },
    {
     "data": {
      "application/vnd.microsoft.datawrangler.viewer.v0+json": {
       "columns": [
        {
         "name": "index",
         "rawType": "object",
         "type": "string"
        },
        {
         "name": "pred_probs",
         "rawType": "float32",
         "type": "float"
        }
       ],
       "ref": "93d99503-d7ff-46d0-9542-549a2f6e6e5b",
       "rows": [
        [
         "cs",
         "0.0"
        ],
        [
         "da",
         "0.0"
        ],
        [
         "de",
         "0.0"
        ],
        [
         "el",
         "0.0"
        ],
        [
         "es",
         "0.0"
        ],
        [
         "fi",
         "0.0"
        ],
        [
         "fr",
         "0.99"
        ],
        [
         "it",
         "0.01"
        ],
        [
         "pl",
         "0.0"
        ],
        [
         "pt",
         "0.0"
        ],
        [
         "sl",
         "0.0"
        ],
        [
         "sv",
         "0.0"
        ]
       ],
       "shape": {
        "columns": 1,
        "rows": 12
       }
      },
      "text/html": [
       "<div>\n",
       "<style scoped>\n",
       "    .dataframe tbody tr th:only-of-type {\n",
       "        vertical-align: middle;\n",
       "    }\n",
       "\n",
       "    .dataframe tbody tr th {\n",
       "        vertical-align: top;\n",
       "    }\n",
       "\n",
       "    .dataframe thead th {\n",
       "        text-align: right;\n",
       "    }\n",
       "</style>\n",
       "<table border=\"1\" class=\"dataframe\">\n",
       "  <thead>\n",
       "    <tr style=\"text-align: right;\">\n",
       "      <th></th>\n",
       "      <th>pred_probs</th>\n",
       "    </tr>\n",
       "  </thead>\n",
       "  <tbody>\n",
       "    <tr>\n",
       "      <th>cs</th>\n",
       "      <td>0.00</td>\n",
       "    </tr>\n",
       "    <tr>\n",
       "      <th>da</th>\n",
       "      <td>0.00</td>\n",
       "    </tr>\n",
       "    <tr>\n",
       "      <th>de</th>\n",
       "      <td>0.00</td>\n",
       "    </tr>\n",
       "    <tr>\n",
       "      <th>el</th>\n",
       "      <td>0.00</td>\n",
       "    </tr>\n",
       "    <tr>\n",
       "      <th>es</th>\n",
       "      <td>0.00</td>\n",
       "    </tr>\n",
       "    <tr>\n",
       "      <th>fi</th>\n",
       "      <td>0.00</td>\n",
       "    </tr>\n",
       "    <tr>\n",
       "      <th>fr</th>\n",
       "      <td>0.99</td>\n",
       "    </tr>\n",
       "    <tr>\n",
       "      <th>it</th>\n",
       "      <td>0.01</td>\n",
       "    </tr>\n",
       "    <tr>\n",
       "      <th>pl</th>\n",
       "      <td>0.00</td>\n",
       "    </tr>\n",
       "    <tr>\n",
       "      <th>pt</th>\n",
       "      <td>0.00</td>\n",
       "    </tr>\n",
       "    <tr>\n",
       "      <th>sl</th>\n",
       "      <td>0.00</td>\n",
       "    </tr>\n",
       "    <tr>\n",
       "      <th>sv</th>\n",
       "      <td>0.00</td>\n",
       "    </tr>\n",
       "  </tbody>\n",
       "</table>\n",
       "</div>"
      ],
      "text/plain": [
       "    pred_probs\n",
       "cs        0.00\n",
       "da        0.00\n",
       "de        0.00\n",
       "el        0.00\n",
       "es        0.00\n",
       "fi        0.00\n",
       "fr        0.99\n",
       "it        0.01\n",
       "pl        0.00\n",
       "pt        0.00\n",
       "sl        0.00\n",
       "sv        0.00"
      ]
     },
     "execution_count": 59,
     "metadata": {},
     "output_type": "execute_result"
    }
   ],
   "source": [
    "text = \"Ça ne marche pas\" # Francés \n",
    "tokenized_text = tokenizer(text, truncation=True, padding=True, return_tensors='tf')\n",
    "pred_probs = model.predict({\n",
    "    'input_ids': tokenized_text['input_ids'],\n",
    "    'attention_mask': tokenized_text['attention_mask']\n",
    "})\n",
    "\n",
    "df_probs = pd.DataFrame({\"pred_probs\":pred_probs.flatten()}, index=le.classes_)\n",
    "\n",
    "print(\"Idioma detectado:\", le.inverse_transform(pred_probs.argmax(axis=1))[0])\n",
    "df_probs.round(2)"
   ]
  },
  {
   "cell_type": "code",
   "execution_count": 60,
   "id": "b2662678",
   "metadata": {},
   "outputs": [
    {
     "name": "stdout",
     "output_type": "stream",
     "text": [
      "1/1 [==============================] - 0s 58ms/step\n",
      "Idioma detectado: fr\n"
     ]
    },
    {
     "data": {
      "application/vnd.microsoft.datawrangler.viewer.v0+json": {
       "columns": [
        {
         "name": "index",
         "rawType": "object",
         "type": "string"
        },
        {
         "name": "pred_probs",
         "rawType": "float32",
         "type": "float"
        }
       ],
       "ref": "b280379c-97d8-4e82-9aaf-32ec148e67e8",
       "rows": [
        [
         "cs",
         "0.0"
        ],
        [
         "da",
         "0.0"
        ],
        [
         "de",
         "0.0"
        ],
        [
         "el",
         "0.0"
        ],
        [
         "es",
         "0.0"
        ],
        [
         "fi",
         "0.0"
        ],
        [
         "fr",
         "1.0"
        ],
        [
         "it",
         "0.0"
        ],
        [
         "pl",
         "0.0"
        ],
        [
         "pt",
         "0.0"
        ],
        [
         "sl",
         "0.0"
        ],
        [
         "sv",
         "0.0"
        ]
       ],
       "shape": {
        "columns": 1,
        "rows": 12
       }
      },
      "text/html": [
       "<div>\n",
       "<style scoped>\n",
       "    .dataframe tbody tr th:only-of-type {\n",
       "        vertical-align: middle;\n",
       "    }\n",
       "\n",
       "    .dataframe tbody tr th {\n",
       "        vertical-align: top;\n",
       "    }\n",
       "\n",
       "    .dataframe thead th {\n",
       "        text-align: right;\n",
       "    }\n",
       "</style>\n",
       "<table border=\"1\" class=\"dataframe\">\n",
       "  <thead>\n",
       "    <tr style=\"text-align: right;\">\n",
       "      <th></th>\n",
       "      <th>pred_probs</th>\n",
       "    </tr>\n",
       "  </thead>\n",
       "  <tbody>\n",
       "    <tr>\n",
       "      <th>cs</th>\n",
       "      <td>0.0</td>\n",
       "    </tr>\n",
       "    <tr>\n",
       "      <th>da</th>\n",
       "      <td>0.0</td>\n",
       "    </tr>\n",
       "    <tr>\n",
       "      <th>de</th>\n",
       "      <td>0.0</td>\n",
       "    </tr>\n",
       "    <tr>\n",
       "      <th>el</th>\n",
       "      <td>0.0</td>\n",
       "    </tr>\n",
       "    <tr>\n",
       "      <th>es</th>\n",
       "      <td>0.0</td>\n",
       "    </tr>\n",
       "    <tr>\n",
       "      <th>fi</th>\n",
       "      <td>0.0</td>\n",
       "    </tr>\n",
       "    <tr>\n",
       "      <th>fr</th>\n",
       "      <td>1.0</td>\n",
       "    </tr>\n",
       "    <tr>\n",
       "      <th>it</th>\n",
       "      <td>0.0</td>\n",
       "    </tr>\n",
       "    <tr>\n",
       "      <th>pl</th>\n",
       "      <td>0.0</td>\n",
       "    </tr>\n",
       "    <tr>\n",
       "      <th>pt</th>\n",
       "      <td>0.0</td>\n",
       "    </tr>\n",
       "    <tr>\n",
       "      <th>sl</th>\n",
       "      <td>0.0</td>\n",
       "    </tr>\n",
       "    <tr>\n",
       "      <th>sv</th>\n",
       "      <td>0.0</td>\n",
       "    </tr>\n",
       "  </tbody>\n",
       "</table>\n",
       "</div>"
      ],
      "text/plain": [
       "    pred_probs\n",
       "cs         0.0\n",
       "da         0.0\n",
       "de         0.0\n",
       "el         0.0\n",
       "es         0.0\n",
       "fi         0.0\n",
       "fr         1.0\n",
       "it         0.0\n",
       "pl         0.0\n",
       "pt         0.0\n",
       "sl         0.0\n",
       "sv         0.0"
      ]
     },
     "execution_count": 60,
     "metadata": {},
     "output_type": "execute_result"
    }
   ],
   "source": [
    "text = \"Ça ne marche pas, je suis desolé\" # Francés \n",
    "tokenized_text = tokenizer(text, truncation=True, padding=True, return_tensors='tf')\n",
    "pred_probs = model.predict({\n",
    "    'input_ids': tokenized_text['input_ids'],\n",
    "    'attention_mask': tokenized_text['attention_mask']\n",
    "})\n",
    "\n",
    "df_probs = pd.DataFrame({\"pred_probs\":pred_probs.flatten()}, index=le.classes_)\n",
    "\n",
    "print(\"Idioma detectado:\", le.inverse_transform(pred_probs.argmax(axis=1))[0])\n",
    "df_probs.round(2)"
   ]
  },
  {
   "cell_type": "code",
   "execution_count": 61,
   "id": "12de0a19",
   "metadata": {},
   "outputs": [
    {
     "name": "stdout",
     "output_type": "stream",
     "text": [
      "1/1 [==============================] - 0s 57ms/step\n",
      "Idioma detectado: sv\n"
     ]
    },
    {
     "data": {
      "application/vnd.microsoft.datawrangler.viewer.v0+json": {
       "columns": [
        {
         "name": "index",
         "rawType": "object",
         "type": "string"
        },
        {
         "name": "pred_probs",
         "rawType": "float32",
         "type": "float"
        }
       ],
       "ref": "57eeb771-ba58-4cdd-a6e3-bf411c562fa3",
       "rows": [
        [
         "cs",
         "0.0"
        ],
        [
         "da",
         "0.0"
        ],
        [
         "de",
         "0.0"
        ],
        [
         "el",
         "0.0"
        ],
        [
         "es",
         "0.0"
        ],
        [
         "fi",
         "0.0"
        ],
        [
         "fr",
         "0.0"
        ],
        [
         "it",
         "0.0"
        ],
        [
         "pl",
         "0.0"
        ],
        [
         "pt",
         "0.0"
        ],
        [
         "sl",
         "0.0"
        ],
        [
         "sv",
         "1.0"
        ]
       ],
       "shape": {
        "columns": 1,
        "rows": 12
       }
      },
      "text/html": [
       "<div>\n",
       "<style scoped>\n",
       "    .dataframe tbody tr th:only-of-type {\n",
       "        vertical-align: middle;\n",
       "    }\n",
       "\n",
       "    .dataframe tbody tr th {\n",
       "        vertical-align: top;\n",
       "    }\n",
       "\n",
       "    .dataframe thead th {\n",
       "        text-align: right;\n",
       "    }\n",
       "</style>\n",
       "<table border=\"1\" class=\"dataframe\">\n",
       "  <thead>\n",
       "    <tr style=\"text-align: right;\">\n",
       "      <th></th>\n",
       "      <th>pred_probs</th>\n",
       "    </tr>\n",
       "  </thead>\n",
       "  <tbody>\n",
       "    <tr>\n",
       "      <th>cs</th>\n",
       "      <td>0.0</td>\n",
       "    </tr>\n",
       "    <tr>\n",
       "      <th>da</th>\n",
       "      <td>0.0</td>\n",
       "    </tr>\n",
       "    <tr>\n",
       "      <th>de</th>\n",
       "      <td>0.0</td>\n",
       "    </tr>\n",
       "    <tr>\n",
       "      <th>el</th>\n",
       "      <td>0.0</td>\n",
       "    </tr>\n",
       "    <tr>\n",
       "      <th>es</th>\n",
       "      <td>0.0</td>\n",
       "    </tr>\n",
       "    <tr>\n",
       "      <th>fi</th>\n",
       "      <td>0.0</td>\n",
       "    </tr>\n",
       "    <tr>\n",
       "      <th>fr</th>\n",
       "      <td>0.0</td>\n",
       "    </tr>\n",
       "    <tr>\n",
       "      <th>it</th>\n",
       "      <td>0.0</td>\n",
       "    </tr>\n",
       "    <tr>\n",
       "      <th>pl</th>\n",
       "      <td>0.0</td>\n",
       "    </tr>\n",
       "    <tr>\n",
       "      <th>pt</th>\n",
       "      <td>0.0</td>\n",
       "    </tr>\n",
       "    <tr>\n",
       "      <th>sl</th>\n",
       "      <td>0.0</td>\n",
       "    </tr>\n",
       "    <tr>\n",
       "      <th>sv</th>\n",
       "      <td>1.0</td>\n",
       "    </tr>\n",
       "  </tbody>\n",
       "</table>\n",
       "</div>"
      ],
      "text/plain": [
       "    pred_probs\n",
       "cs         0.0\n",
       "da         0.0\n",
       "de         0.0\n",
       "el         0.0\n",
       "es         0.0\n",
       "fi         0.0\n",
       "fr         0.0\n",
       "it         0.0\n",
       "pl         0.0\n",
       "pt         0.0\n",
       "sl         0.0\n",
       "sv         1.0"
      ]
     },
     "execution_count": 61,
     "metadata": {},
     "output_type": "execute_result"
    }
   ],
   "source": [
    "text = \"Det fungerar inte.\" # Sueco\n",
    "tokenized_text = tokenizer(text, truncation=True, padding=True, return_tensors='tf')\n",
    "pred_probs = model.predict({\n",
    "    'input_ids': tokenized_text['input_ids'],\n",
    "    'attention_mask': tokenized_text['attention_mask']\n",
    "})\n",
    "\n",
    "df_probs = pd.DataFrame({\"pred_probs\":pred_probs.flatten()}, index=le.classes_)\n",
    "\n",
    "print(\"Idioma detectado:\", le.inverse_transform(pred_probs.argmax(axis=1))[0])\n",
    "df_probs.round(2)"
   ]
  }
 ],
 "metadata": {
  "kernelspec": {
   "display_name": "tf_complete",
   "language": "python",
   "name": "python3"
  },
  "language_info": {
   "codemirror_mode": {
    "name": "ipython",
    "version": 3
   },
   "file_extension": ".py",
   "mimetype": "text/x-python",
   "name": "python",
   "nbconvert_exporter": "python",
   "pygments_lexer": "ipython3",
   "version": "3.9.21"
  }
 },
 "nbformat": 4,
 "nbformat_minor": 5
}
