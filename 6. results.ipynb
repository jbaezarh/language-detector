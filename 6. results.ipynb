{
 "cells": [
  {
   "cell_type": "code",
   "execution_count": 1,
   "id": "22dfa775",
   "metadata": {},
   "outputs": [],
   "source": [
    "import os \n",
    "import pickle\n",
    "import pandas as pd"
   ]
  },
  {
   "cell_type": "markdown",
   "id": "c118c3f2",
   "metadata": {},
   "source": [
    "Leer resultados"
   ]
  },
  {
   "cell_type": "code",
   "execution_count": 2,
   "id": "ff745990",
   "metadata": {},
   "outputs": [],
   "source": [
    "# Directorios\n",
    "fasttext_dir = os.path.join(\"models\",\"fasttext\")\n",
    "ngram_dir = os.path.join(\"models\",\"n-grams\")\n",
    "bert_dir = os.path.join(\"models\",\"bert\")"
   ]
  },
  {
   "cell_type": "code",
   "execution_count": 5,
   "id": "a0658b1d",
   "metadata": {},
   "outputs": [],
   "source": [
    "# Cargar archivos\n",
    "with open(os.path.join(ngram_dir,\"results.json\"), \"rb\") as f:\n",
    "    results_ngram = pickle.load(f)\n",
    "\n",
    "with open(os.path.join(fasttext_dir,\"results.json\"), \"rb\") as f:\n",
    "    results_fasttext = pickle.load(f)\n",
    "\n",
    "with open(os.path.join(bert_dir,\"results.json\"), \"rb\") as f:\n",
    "    results_bert = pickle.load(f)"
   ]
  },
  {
   "cell_type": "markdown",
   "id": "fc64e37e",
   "metadata": {},
   "source": [
    "### Resultados globales"
   ]
  },
  {
   "cell_type": "code",
   "execution_count": 44,
   "id": "ff9adc55",
   "metadata": {},
   "outputs": [
    {
     "name": "stdout",
     "output_type": "stream",
     "text": [
      "          accuracy  precision_macro  recall_macro  f1_macro\n",
      "n-grams     0.9906           0.9906        0.9905    0.9905\n",
      "fasttext    0.9959           0.9959        0.9959    0.9959\n",
      "bert        0.9969           0.9969        0.9969    0.9969\n"
     ]
    }
   ],
   "source": [
    "global_metrics = pd.concat([results_ngram[\"global_metrics\"],\n",
    "                            results_fasttext[\"global_metrics\"],\n",
    "                            results_bert[\"global_metrics\"]])\n",
    "global_metrics.index = [\"n-grams\",\"fasttext\",\"bert\"]\n",
    "\n",
    "print(global_metrics.round(4))"
   ]
  },
  {
   "cell_type": "markdown",
   "id": "08aec3d6",
   "metadata": {},
   "source": [
    "### Métricas por idioma"
   ]
  },
  {
   "cell_type": "code",
   "execution_count": 43,
   "id": "47259993",
   "metadata": {},
   "outputs": [
    {
     "name": "stdout",
     "output_type": "stream",
     "text": [
      "        n-grams                fasttext                    bert              \n",
      "      precision recall     f1 precision recall     f1 precision recall     f1\n",
      "label                                                                        \n",
      "cs        1.000  0.988  0.994     0.999  0.993  0.996     0.994  0.997  0.996\n",
      "da        0.981  0.988  0.985     0.993  0.995  0.994     0.999  0.996  0.997\n",
      "de        0.997  0.996  0.997     0.996  0.997  0.997     0.997  0.999  0.998\n",
      "el        1.000  0.995  0.997     1.000  1.000  1.000     1.000  1.000  1.000\n",
      "es        0.977  0.981  0.979     0.990  0.994  0.992     0.993  0.997  0.995\n",
      "fi        0.999  1.000  0.999     1.000  1.000  1.000     0.999  0.999  0.999\n",
      "fr        0.992  0.997  0.995     0.996  0.999  0.997     0.997  0.999  0.998\n",
      "it        0.989  0.996  0.993     0.993  0.997  0.995     0.993  0.999  0.996\n",
      "pl        0.995  0.990  0.993     0.996  0.995  0.995     0.997  0.993  0.995\n",
      "pt        0.983  0.977  0.980     0.996  0.992  0.994     0.999  0.993  0.996\n",
      "sl        0.984  0.995  0.989     0.995  0.996  0.995     1.000  0.991  0.995\n",
      "sv        0.990  0.984  0.987     0.996  0.992  0.994     0.994  1.000  0.997\n"
     ]
    }
   ],
   "source": [
    "lang_metrics = pd.concat([results_ngram[\"per_class_metrics\"].set_index(\"label\")[[\"precision\",\"recall\",\"f1\"]],\n",
    "                          results_fasttext[\"per_class_metrics\"].set_index(\"label\")[[\"precision\",\"recall\",\"f1\"]],\n",
    "                          results_bert[\"per_class_metrics\"].set_index(\"label\")[[\"precision\",\"recall\",\"f1\"]]],\n",
    "                          axis=1)\n",
    "\n",
    "# Crear el multiíndice de columnas\n",
    "models = ['n-grams'] * 3 + ['fasttext'] * 3 + ['bert'] * 3\n",
    "\n",
    "multi_index = pd.MultiIndex.from_tuples(zip(models, lang_metrics.columns))\n",
    "lang_metrics.columns = multi_index\n",
    "\n",
    "print(lang_metrics.round(3))"
   ]
  },
  {
   "cell_type": "markdown",
   "id": "401ca6b8",
   "metadata": {},
   "source": [
    "### Métricas por tamaño de frase"
   ]
  },
  {
   "cell_type": "code",
   "execution_count": 46,
   "id": "5b0bd229",
   "metadata": {},
   "outputs": [
    {
     "name": "stdout",
     "output_type": "stream",
     "text": [
      "        n-grams          fasttext              bert         \n",
      "       accuracy f1_macro accuracy f1_macro accuracy f1_macro\n",
      "size                                                        \n",
      "large    0.9996   0.9996   1.0000   1.0000   1.0000   1.0000\n",
      "medium   0.9969   0.9969   0.9987   0.9986   0.9993   0.9993\n",
      "small    0.9606   0.9597   0.9825   0.9821   0.9859   0.9856\n"
     ]
    }
   ],
   "source": [
    "size_metrics = pd.concat([results_ngram[\"metrics_per_size\"].set_index(\"size\")[[\"accuracy\",\"f1_macro\"]],\n",
    "                          results_fasttext[\"metrics_per_size\"].set_index(\"size\")[[\"accuracy\",\"f1_macro\"]],\n",
    "                          results_bert[\"metrics_per_size\"].set_index(\"size\")[[\"accuracy\",\"f1_macro\"]]],\n",
    "                          axis=1)\n",
    "\n",
    "# Crear el multiíndice de columnas\n",
    "models = ['n-grams'] * 2 + ['fasttext'] * 2 + ['bert'] * 2\n",
    "\n",
    "multi_index = pd.MultiIndex.from_tuples(zip(models, size_metrics.columns))\n",
    "size_metrics.columns = multi_index\n",
    "\n",
    "print(size_metrics.round(4))"
   ]
  }
 ],
 "metadata": {
  "kernelspec": {
   "display_name": "tf_complete",
   "language": "python",
   "name": "python3"
  },
  "language_info": {
   "codemirror_mode": {
    "name": "ipython",
    "version": 3
   },
   "file_extension": ".py",
   "mimetype": "text/x-python",
   "name": "python",
   "nbconvert_exporter": "python",
   "pygments_lexer": "ipython3",
   "version": "3.9.21"
  }
 },
 "nbformat": 4,
 "nbformat_minor": 5
}
